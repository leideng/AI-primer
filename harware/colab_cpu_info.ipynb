{
  "nbformat": 4,
  "nbformat_minor": 0,
  "metadata": {
    "colab": {
      "provenance": [],
      "authorship_tag": "ABX9TyMd2WntRAnnDDBd9jQpMxCD",
      "include_colab_link": true
    },
    "kernelspec": {
      "name": "python3",
      "display_name": "Python 3"
    },
    "language_info": {
      "name": "python"
    }
  },
  "cells": [
    {
      "cell_type": "markdown",
      "metadata": {
        "id": "view-in-github",
        "colab_type": "text"
      },
      "source": [
        "<a href=\"https://colab.research.google.com/github/leideng/AI-primer/blob/main/harware/colab_cpu_info.ipynb\" target=\"_parent\"><img src=\"https://colab.research.google.com/assets/colab-badge.svg\" alt=\"Open In Colab\"/></a>"
      ]
    },
    {
      "cell_type": "code",
      "execution_count": 1,
      "metadata": {
        "colab": {
          "base_uri": "https://localhost:8080/"
        },
        "id": "Rr0srKEx5Swx",
        "outputId": "22a8995d-7eac-4a9a-f5aa-e59992fde222"
      },
      "outputs": [
        {
          "output_type": "stream",
          "name": "stdout",
          "text": [
            "Architecture:             x86_64\n",
            "  CPU op-mode(s):         32-bit, 64-bit\n",
            "  Address sizes:          46 bits physical, 48 bits virtual\n",
            "  Byte Order:             Little Endian\n",
            "CPU(s):                   2\n",
            "  On-line CPU(s) list:    0,1\n",
            "Vendor ID:                GenuineIntel\n",
            "  Model name:             Intel(R) Xeon(R) CPU @ 2.20GHz\n",
            "    CPU family:           6\n",
            "    Model:                79\n",
            "    Thread(s) per core:   2\n",
            "    Core(s) per socket:   1\n",
            "    Socket(s):            1\n",
            "    Stepping:             0\n",
            "    BogoMIPS:             4399.99\n",
            "    Flags:                fpu vme de pse tsc msr pae mce cx8 apic sep mtrr pge m\n",
            "                          ca cmov pat pse36 clflush mmx fxsr sse sse2 ss ht sysc\n",
            "                          all nx pdpe1gb rdtscp lm constant_tsc rep_good nopl xt\n",
            "                          opology nonstop_tsc cpuid tsc_known_freq pni pclmulqdq\n",
            "                           ssse3 fma cx16 pcid sse4_1 sse4_2 x2apic movbe popcnt\n",
            "                           aes xsave avx f16c rdrand hypervisor lahf_lm abm 3dno\n",
            "                          wprefetch invpcid_single ssbd ibrs ibpb stibp fsgsbase\n",
            "                           tsc_adjust bmi1 hle avx2 smep bmi2 erms invpcid rtm r\n",
            "                          dseed adx smap xsaveopt arat md_clear arch_capabilitie\n",
            "                          s\n",
            "Virtualization features:  \n",
            "  Hypervisor vendor:      KVM\n",
            "  Virtualization type:    full\n",
            "Caches (sum of all):      \n",
            "  L1d:                    32 KiB (1 instance)\n",
            "  L1i:                    32 KiB (1 instance)\n",
            "  L2:                     256 KiB (1 instance)\n",
            "  L3:                     55 MiB (1 instance)\n",
            "NUMA:                     \n",
            "  NUMA node(s):           1\n",
            "  NUMA node0 CPU(s):      0,1\n",
            "Vulnerabilities:          \n",
            "  Gather data sampling:   Not affected\n",
            "  Itlb multihit:          Not affected\n",
            "  L1tf:                   Mitigation; PTE Inversion\n",
            "  Mds:                    Vulnerable; SMT Host state unknown\n",
            "  Meltdown:               Vulnerable\n",
            "  Mmio stale data:        Vulnerable\n",
            "  Reg file data sampling: Not affected\n",
            "  Retbleed:               Vulnerable\n",
            "  Spec rstack overflow:   Not affected\n",
            "  Spec store bypass:      Vulnerable\n",
            "  Spectre v1:             Vulnerable: __user pointer sanitization and usercopy b\n",
            "                          arriers only; no swapgs barriers\n",
            "  Spectre v2:             Vulnerable; IBPB: disabled; STIBP: disabled; PBRSB-eIB\n",
            "                          RS: Not affected; BHI: Vulnerable\n",
            "  Srbds:                  Not affected\n",
            "  Tsx async abort:        Vulnerable\n"
          ]
        }
      ],
      "source": [
        "!lscpu"
      ]
    },
    {
      "cell_type": "code",
      "source": [
        "#show newtwork info\n",
        "!ifconfig"
      ],
      "metadata": {
        "colab": {
          "base_uri": "https://localhost:8080/"
        },
        "id": "oQuwRpZX6KIA",
        "outputId": "9f707d59-1eb8-46c0-933d-248518c3b52d"
      },
      "execution_count": 2,
      "outputs": [
        {
          "output_type": "stream",
          "name": "stdout",
          "text": [
            "eth0: flags=4163<UP,BROADCAST,RUNNING,MULTICAST>  mtu 1500\n",
            "        inet 172.28.0.12  netmask 255.255.0.0  broadcast 172.28.255.255\n",
            "        ether 02:42:ac:1c:00:0c  txqueuelen 0  (Ethernet)\n",
            "        RX packets 415  bytes 56678 (56.6 KB)\n",
            "        RX errors 0  dropped 0  overruns 0  frame 0\n",
            "        TX packets 324  bytes 122469 (122.4 KB)\n",
            "        TX errors 0  dropped 0 overruns 0  carrier 0  collisions 0\n",
            "\n",
            "lo: flags=73<UP,LOOPBACK,RUNNING>  mtu 65536\n",
            "        inet 127.0.0.1  netmask 255.0.0.0\n",
            "        loop  txqueuelen 1000  (Local Loopback)\n",
            "        RX packets 1405  bytes 228308 (228.3 KB)\n",
            "        RX errors 0  dropped 0  overruns 0  frame 0\n",
            "        TX packets 1405  bytes 228308 (228.3 KB)\n",
            "        TX errors 0  dropped 0 overruns 0  carrier 0  collisions 0\n",
            "\n"
          ]
        }
      ]
    },
    {
      "cell_type": "code",
      "source": [
        "#show DRAM info (short)\n",
        "!free -h"
      ],
      "metadata": {
        "colab": {
          "base_uri": "https://localhost:8080/"
        },
        "id": "STBHqdg96dKZ",
        "outputId": "2a572936-94c8-4a28-c6b8-82eb880595f5"
      },
      "execution_count": 3,
      "outputs": [
        {
          "output_type": "stream",
          "name": "stdout",
          "text": [
            "               total        used        free      shared  buff/cache   available\n",
            "Mem:            12Gi       660Mi       7.6Gi       1.0Mi       4.5Gi        11Gi\n",
            "Swap:             0B          0B          0B\n"
          ]
        }
      ]
    },
    {
      "cell_type": "code",
      "source": [
        "#show DRAM info (full)\n",
        "!cat /proc/meminfo"
      ],
      "metadata": {
        "colab": {
          "base_uri": "https://localhost:8080/"
        },
        "id": "Bo81zore6hsD",
        "outputId": "e079bc4a-43a2-4171-9ac5-bad24c922e1f"
      },
      "execution_count": 4,
      "outputs": [
        {
          "output_type": "stream",
          "name": "stdout",
          "text": [
            "MemTotal:       13289424 kB\n",
            "MemFree:         7901372 kB\n",
            "MemAvailable:   12285180 kB\n",
            "Buffers:          443664 kB\n",
            "Cached:          4113508 kB\n",
            "SwapCached:            0 kB\n",
            "Active:           769904 kB\n",
            "Inactive:        4353920 kB\n",
            "Active(anon):       1316 kB\n",
            "Inactive(anon):   567212 kB\n",
            "Active(file):     768588 kB\n",
            "Inactive(file):  3786708 kB\n",
            "Unevictable:           8 kB\n",
            "Mlocked:               8 kB\n",
            "SwapTotal:             0 kB\n",
            "SwapFree:              0 kB\n",
            "Dirty:               288 kB\n",
            "Writeback:             0 kB\n",
            "AnonPages:        566692 kB\n",
            "Mapped:           324864 kB\n",
            "Shmem:              1848 kB\n",
            "KReclaimable:     138904 kB\n",
            "Slab:             178872 kB\n",
            "SReclaimable:     138904 kB\n",
            "SUnreclaim:        39968 kB\n",
            "KernelStack:        5248 kB\n",
            "PageTables:         8988 kB\n",
            "SecPageTables:         0 kB\n",
            "NFS_Unstable:          0 kB\n",
            "Bounce:                0 kB\n",
            "WritebackTmp:          0 kB\n",
            "CommitLimit:     6644712 kB\n",
            "Committed_AS:    2593124 kB\n",
            "VmallocTotal:   34359738367 kB\n",
            "VmallocUsed:       11880 kB\n",
            "VmallocChunk:          0 kB\n",
            "Percpu:             1072 kB\n",
            "HardwareCorrupted:     0 kB\n",
            "AnonHugePages:         0 kB\n",
            "ShmemHugePages:        0 kB\n",
            "ShmemPmdMapped:        0 kB\n",
            "FileHugePages:         0 kB\n",
            "FilePmdMapped:         0 kB\n",
            "CmaTotal:              0 kB\n",
            "CmaFree:               0 kB\n",
            "Unaccepted:            0 kB\n",
            "HugePages_Total:       0\n",
            "HugePages_Free:        0\n",
            "HugePages_Rsvd:        0\n",
            "HugePages_Surp:        0\n",
            "Hugepagesize:       2048 kB\n",
            "Hugetlb:               0 kB\n",
            "DirectMap4k:       66352 kB\n",
            "DirectMap2M:     5173248 kB\n",
            "DirectMap1G:    10485760 kB\n"
          ]
        }
      ]
    },
    {
      "cell_type": "code",
      "source": [
        "#show SSD/HDD disk info\n",
        "!lsblk"
      ],
      "metadata": {
        "colab": {
          "base_uri": "https://localhost:8080/"
        },
        "id": "c4MlQQ2G6o_E",
        "outputId": "8d21c30c-dcdb-4e80-aab2-a40ca646c50e"
      },
      "execution_count": 5,
      "outputs": [
        {
          "output_type": "stream",
          "name": "stdout",
          "text": [
            "NAME    MAJ:MIN RM   SIZE RO TYPE MOUNTPOINTS\n",
            "loop0     7:0    0   230G  0 loop \n",
            "sda       8:0    0   240G  0 disk \n",
            "├─sda1    8:1    0 235.8G  0 part /etc/hosts\n",
            "│                                 /etc/hostname\n",
            "│                                 /etc/resolv.conf\n",
            "│                                 /kaggle/input\n",
            "├─sda2    8:2    0    16M  0 part \n",
            "├─sda3    8:3    0     2G  0 part \n",
            "├─sda4    8:4    0    16M  0 part \n",
            "├─sda5    8:5    0     2G  0 part \n",
            "├─sda6    8:6    0   512B  0 part \n",
            "├─sda7    8:7    0   512B  0 part \n",
            "├─sda8    8:8    0    16M  0 part \n",
            "├─sda9    8:9    0   512B  0 part \n",
            "├─sda10   8:10   0   512B  0 part \n",
            "├─sda11   8:11   0     8M  0 part \n",
            "└─sda12   8:12   0    32M  0 part \n"
          ]
        }
      ]
    }
  ]
}
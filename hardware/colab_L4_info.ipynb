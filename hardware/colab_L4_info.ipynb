{
  "nbformat": 4,
  "nbformat_minor": 0,
  "metadata": {
    "colab": {
      "provenance": [],
      "machine_shape": "hm",
      "gpuType": "L4",
      "authorship_tag": "ABX9TyOzVKh3nAKrHmLL5v1IK8wt",
      "include_colab_link": true
    },
    "kernelspec": {
      "name": "python3",
      "display_name": "Python 3"
    },
    "language_info": {
      "name": "python"
    },
    "accelerator": "GPU"
  },
  "cells": [
    {
      "cell_type": "markdown",
      "metadata": {
        "id": "view-in-github",
        "colab_type": "text"
      },
      "source": [
        "<a href=\"https://colab.research.google.com/github/leideng/AI-primer/blob/main/hardware/colab_L4_info.ipynb\" target=\"_parent\"><img src=\"https://colab.research.google.com/assets/colab-badge.svg\" alt=\"Open In Colab\"/></a>"
      ]
    },
    {
      "cell_type": "code",
      "execution_count": 2,
      "metadata": {
        "colab": {
          "base_uri": "https://localhost:8080/"
        },
        "id": "9tmq3lysFyKP",
        "outputId": "4b3b272c-17e9-4341-c61a-e5dc4d5132a3"
      },
      "outputs": [
        {
          "output_type": "stream",
          "name": "stdout",
          "text": [
            "Sat Jun 14 15:39:47 2025       \n",
            "+-----------------------------------------------------------------------------------------+\n",
            "| NVIDIA-SMI 550.54.15              Driver Version: 550.54.15      CUDA Version: 12.4     |\n",
            "|-----------------------------------------+------------------------+----------------------+\n",
            "| GPU  Name                 Persistence-M | Bus-Id          Disp.A | Volatile Uncorr. ECC |\n",
            "| Fan  Temp   Perf          Pwr:Usage/Cap |           Memory-Usage | GPU-Util  Compute M. |\n",
            "|                                         |                        |               MIG M. |\n",
            "|=========================================+========================+======================|\n",
            "|   0  NVIDIA L4                      Off |   00000000:00:03.0 Off |                    0 |\n",
            "| N/A   36C    P8             11W /   72W |       0MiB /  23034MiB |      0%      Default |\n",
            "|                                         |                        |                  N/A |\n",
            "+-----------------------------------------+------------------------+----------------------+\n",
            "                                                                                         \n",
            "+-----------------------------------------------------------------------------------------+\n",
            "| Processes:                                                                              |\n",
            "|  GPU   GI   CI        PID   Type   Process name                              GPU Memory |\n",
            "|        ID   ID                                                               Usage      |\n",
            "|=========================================================================================|\n",
            "|  No running processes found                                                             |\n",
            "+-----------------------------------------------------------------------------------------+\n"
          ]
        }
      ],
      "source": [
        "#show all GPUs' short info\n",
        "!nvidia-smi"
      ]
    },
    {
      "cell_type": "code",
      "source": [
        "#show all GPUs' full info\n",
        "!nvidia-smi -q"
      ],
      "metadata": {
        "colab": {
          "base_uri": "https://localhost:8080/"
        },
        "id": "Y4HWe_ryGKUZ",
        "outputId": "6a86d2b7-7bf1-4627-d406-b34882415e11"
      },
      "execution_count": 3,
      "outputs": [
        {
          "output_type": "stream",
          "name": "stdout",
          "text": [
            "\n",
            "==============NVSMI LOG==============\n",
            "\n",
            "Timestamp                                 : Sat Jun 14 15:39:59 2025\n",
            "Driver Version                            : 550.54.15\n",
            "CUDA Version                              : 12.4\n",
            "\n",
            "Attached GPUs                             : 1\n",
            "GPU 00000000:00:03.0\n",
            "    Product Name                          : NVIDIA L4\n",
            "    Product Brand                         : NVIDIA\n",
            "    Product Architecture                  : Ada Lovelace\n",
            "    Display Mode                          : Enabled\n",
            "    Display Active                        : Disabled\n",
            "    Persistence Mode                      : Disabled\n",
            "    Addressing Mode                       : None\n",
            "    MIG Mode\n",
            "        Current                           : N/A\n",
            "        Pending                           : N/A\n",
            "    Accounting Mode                       : Disabled\n",
            "    Accounting Mode Buffer Size           : 4000\n",
            "    Driver Model\n",
            "        Current                           : N/A\n",
            "        Pending                           : N/A\n",
            "    Serial Number                         : 1322723048872\n",
            "    GPU UUID                              : GPU-086dfad0-5fb9-854f-ab37-504a916728b0\n",
            "    Minor Number                          : 0\n",
            "    VBIOS Version                         : 95.04.29.00.07\n",
            "    MultiGPU Board                        : No\n",
            "    Board ID                              : 0x3\n",
            "    Board Part Number                     : 900-2G193-6310-001\n",
            "    GPU Part Number                       : 27B8-895-A1\n",
            "    FRU Part Number                       : N/A\n",
            "    Module ID                             : 1\n",
            "    Inforom Version\n",
            "        Image Version                     : G193.0202.00.01\n",
            "        OEM Object                        : 2.1\n",
            "        ECC Object                        : 6.16\n",
            "        Power Management Object           : N/A\n",
            "    Inforom BBX Object Flush\n",
            "        Latest Timestamp                  : N/A\n",
            "        Latest Duration                   : N/A\n",
            "    GPU Operation Mode\n",
            "        Current                           : N/A\n",
            "        Pending                           : N/A\n",
            "    GPU C2C Mode                          : N/A\n",
            "    GPU Virtualization Mode\n",
            "        Virtualization Mode               : Pass-Through\n",
            "        Host VGPU Mode                    : N/A\n",
            "        vGPU Heterogeneous Mode           : N/A\n",
            "    GPU Reset Status\n",
            "        Reset Required                    : No\n",
            "        Drain and Reset Recommended       : N/A\n",
            "    GSP Firmware Version                  : N/A\n",
            "    IBMNPU\n",
            "        Relaxed Ordering Mode             : N/A\n",
            "    PCI\n",
            "        Bus                               : 0x00\n",
            "        Device                            : 0x03\n",
            "        Domain                            : 0x0000\n",
            "        Base Classcode                    : 0x3\n",
            "        Sub Classcode                     : 0x2\n",
            "        Device Id                         : 0x27B810DE\n",
            "        Bus Id                            : 00000000:00:03.0\n",
            "        Sub System Id                     : 0x16EE10DE\n",
            "        GPU Link Info\n",
            "            PCIe Generation\n",
            "                Max                       : 3\n",
            "                Current                   : 1\n",
            "                Device Current            : 1\n",
            "                Device Max                : 4\n",
            "                Host Max                  : N/A\n",
            "            Link Width\n",
            "                Max                       : 16x\n",
            "                Current                   : 16x\n",
            "        Bridge Chip\n",
            "            Type                          : N/A\n",
            "            Firmware                      : N/A\n",
            "        Replays Since Reset               : 0\n",
            "        Replay Number Rollovers           : 0\n",
            "        Tx Throughput                     : 0 KB/s\n",
            "        Rx Throughput                     : 0 KB/s\n",
            "        Atomic Caps Inbound               : N/A\n",
            "        Atomic Caps Outbound              : N/A\n",
            "    Fan Speed                             : N/A\n",
            "    Performance State                     : P8\n",
            "    Clocks Event Reasons\n",
            "        Idle                              : Active\n",
            "        Applications Clocks Setting       : Not Active\n",
            "        SW Power Cap                      : Not Active\n",
            "        HW Slowdown                       : Not Active\n",
            "            HW Thermal Slowdown           : Not Active\n",
            "            HW Power Brake Slowdown       : Not Active\n",
            "        Sync Boost                        : Not Active\n",
            "        SW Thermal Slowdown               : Not Active\n",
            "        Display Clock Setting             : Not Active\n",
            "    Sparse Operation Mode                 : N/A\n",
            "    FB Memory Usage\n",
            "        Total                             : 23034 MiB\n",
            "        Reserved                          : 341 MiB\n",
            "        Used                              : 0 MiB\n",
            "        Free                              : 22692 MiB\n",
            "    BAR1 Memory Usage\n",
            "        Total                             : 32768 MiB\n",
            "        Used                              : 1 MiB\n",
            "        Free                              : 32767 MiB\n",
            "    Conf Compute Protected Memory Usage\n",
            "        Total                             : 0 MiB\n",
            "        Used                              : 0 MiB\n",
            "        Free                              : 0 MiB\n",
            "    Compute Mode                          : Default\n",
            "    Utilization\n",
            "        Gpu                               : 0 %\n",
            "        Memory                            : 0 %\n",
            "        Encoder                           : 0 %\n",
            "        Decoder                           : 0 %\n",
            "        JPEG                              : 0 %\n",
            "        OFA                               : 0 %\n",
            "    Encoder Stats\n",
            "        Active Sessions                   : 0\n",
            "        Average FPS                       : 0\n",
            "        Average Latency                   : 0\n",
            "    FBC Stats\n",
            "        Active Sessions                   : 0\n",
            "        Average FPS                       : 0\n",
            "        Average Latency                   : 0\n",
            "    ECC Mode\n",
            "        Current                           : Enabled\n",
            "        Pending                           : Enabled\n",
            "    ECC Errors\n",
            "        Volatile\n",
            "            SRAM Correctable              : 0\n",
            "            SRAM Uncorrectable Parity     : 0\n",
            "            SRAM Uncorrectable SEC-DED    : 0\n",
            "            DRAM Correctable              : 0\n",
            "            DRAM Uncorrectable            : 0\n",
            "        Aggregate\n",
            "            SRAM Correctable              : 0\n",
            "            SRAM Uncorrectable Parity     : 0\n",
            "            SRAM Uncorrectable SEC-DED    : 0\n",
            "            DRAM Correctable              : 0\n",
            "            DRAM Uncorrectable            : 0\n",
            "            SRAM Threshold Exceeded       : No\n",
            "        Aggregate Uncorrectable SRAM Sources\n",
            "            SRAM L2                       : 0\n",
            "            SRAM SM                       : 0\n",
            "            SRAM Microcontroller          : 0\n",
            "            SRAM PCIE                     : 0\n",
            "            SRAM Other                    : 0\n",
            "    Retired Pages\n",
            "        Single Bit ECC                    : N/A\n",
            "        Double Bit ECC                    : N/A\n",
            "        Pending Page Blacklist            : N/A\n",
            "    Remapped Rows\n",
            "        Correctable Error                 : 0\n",
            "        Uncorrectable Error               : 0\n",
            "        Pending                           : No\n",
            "        Remapping Failure Occurred        : No\n",
            "        Bank Remap Availability Histogram\n",
            "            Max                           : 96 bank(s)\n",
            "            High                          : 0 bank(s)\n",
            "            Partial                       : 0 bank(s)\n",
            "            Low                           : 0 bank(s)\n",
            "            None                          : 0 bank(s)\n",
            "    Temperature\n",
            "        GPU Current Temp                  : 36 C\n",
            "        GPU T.Limit Temp                  : 45 C\n",
            "        GPU Shutdown T.Limit Temp         : -5 C\n",
            "        GPU Slowdown T.Limit Temp         : -2 C\n",
            "        GPU Max Operating T.Limit Temp    : 0 C\n",
            "        GPU Target Temperature            : N/A\n",
            "        Memory Current Temp               : N/A\n",
            "        Memory Max Operating T.Limit Temp : N/A\n",
            "    GPU Power Readings\n",
            "        Power Draw                        : 11.91 W\n",
            "        Current Power Limit               : 72.00 W\n",
            "        Requested Power Limit             : 72.00 W\n",
            "        Default Power Limit               : 72.00 W\n",
            "        Min Power Limit                   : 40.00 W\n",
            "        Max Power Limit                   : 72.00 W\n",
            "    GPU Memory Power Readings \n",
            "        Power Draw                        : N/A\n",
            "    Module Power Readings\n",
            "        Power Draw                        : N/A\n",
            "        Current Power Limit               : N/A\n",
            "        Requested Power Limit             : N/A\n",
            "        Default Power Limit               : N/A\n",
            "        Min Power Limit                   : N/A\n",
            "        Max Power Limit                   : N/A\n",
            "    Clocks\n",
            "        Graphics                          : 210 MHz\n",
            "        SM                                : 210 MHz\n",
            "        Memory                            : 405 MHz\n",
            "        Video                             : 765 MHz\n",
            "    Applications Clocks\n",
            "        Graphics                          : 2040 MHz\n",
            "        Memory                            : 6251 MHz\n",
            "    Default Applications Clocks\n",
            "        Graphics                          : 2040 MHz\n",
            "        Memory                            : 6251 MHz\n",
            "    Deferred Clocks\n",
            "        Memory                            : N/A\n",
            "    Max Clocks\n",
            "        Graphics                          : 2040 MHz\n",
            "        SM                                : 2040 MHz\n",
            "        Memory                            : 6251 MHz\n",
            "        Video                             : 1770 MHz\n",
            "    Max Customer Boost Clocks\n",
            "        Graphics                          : 2040 MHz\n",
            "    Clock Policy\n",
            "        Auto Boost                        : N/A\n",
            "        Auto Boost Default                : N/A\n",
            "    Voltage\n",
            "        Graphics                          : 650.000 mV\n",
            "    Fabric\n",
            "        State                             : N/A\n",
            "        Status                            : N/A\n",
            "        CliqueId                          : N/A\n",
            "        ClusterUUID                       : N/A\n",
            "        Health\n",
            "            Bandwidth                     : N/A\n",
            "    Processes                             : None\n",
            "\n"
          ]
        }
      ]
    },
    {
      "cell_type": "code",
      "source": [
        "#show CPU info\n",
        "!lscpu"
      ],
      "metadata": {
        "colab": {
          "base_uri": "https://localhost:8080/"
        },
        "id": "Fg8S7m99GRYh",
        "outputId": "5b6d95f1-9fc5-487c-d25e-a321fec1ac0c"
      },
      "execution_count": 4,
      "outputs": [
        {
          "output_type": "stream",
          "name": "stdout",
          "text": [
            "Architecture:             x86_64\n",
            "  CPU op-mode(s):         32-bit, 64-bit\n",
            "  Address sizes:          46 bits physical, 48 bits virtual\n",
            "  Byte Order:             Little Endian\n",
            "CPU(s):                   12\n",
            "  On-line CPU(s) list:    0-11\n",
            "Vendor ID:                GenuineIntel\n",
            "  Model name:             Intel(R) Xeon(R) CPU @ 2.20GHz\n",
            "    CPU family:           6\n",
            "    Model:                85\n",
            "    Thread(s) per core:   2\n",
            "    Core(s) per socket:   6\n",
            "    Socket(s):            1\n",
            "    Stepping:             7\n",
            "    BogoMIPS:             4400.41\n",
            "    Flags:                fpu vme de pse tsc msr pae mce cx8 apic sep mtrr pge m\n",
            "                          ca cmov pat pse36 clflush mmx fxsr sse sse2 ss ht sysc\n",
            "                          all nx pdpe1gb rdtscp lm constant_tsc rep_good nopl xt\n",
            "                          opology nonstop_tsc cpuid tsc_known_freq pni pclmulqdq\n",
            "                           ssse3 fma cx16 pcid sse4_1 sse4_2 x2apic movbe popcnt\n",
            "                           aes xsave avx f16c rdrand hypervisor lahf_lm abm 3dno\n",
            "                          wprefetch invpcid_single ssbd ibrs ibpb stibp ibrs_enh\n",
            "                          anced fsgsbase tsc_adjust bmi1 hle avx2 smep bmi2 erms\n",
            "                           invpcid rtm mpx avx512f avx512dq rdseed adx smap clfl\n",
            "                          ushopt clwb avx512cd avx512bw avx512vl xsaveopt xsavec\n",
            "                           xgetbv1 xsaves arat avx512_vnni md_clear arch_capabil\n",
            "                          ities\n",
            "Virtualization features:  \n",
            "  Hypervisor vendor:      KVM\n",
            "  Virtualization type:    full\n",
            "Caches (sum of all):      \n",
            "  L1d:                    192 KiB (6 instances)\n",
            "  L1i:                    192 KiB (6 instances)\n",
            "  L2:                     6 MiB (6 instances)\n",
            "  L3:                     38.5 MiB (1 instance)\n",
            "NUMA:                     \n",
            "  NUMA node(s):           1\n",
            "  NUMA node0 CPU(s):      0-11\n",
            "Vulnerabilities:          \n",
            "  Gather data sampling:   Not affected\n",
            "  Itlb multihit:          Not affected\n",
            "  L1tf:                   Not affected\n",
            "  Mds:                    Not affected\n",
            "  Meltdown:               Not affected\n",
            "  Mmio stale data:        Vulnerable\n",
            "  Reg file data sampling: Not affected\n",
            "  Retbleed:               Vulnerable\n",
            "  Spec rstack overflow:   Not affected\n",
            "  Spec store bypass:      Vulnerable\n",
            "  Spectre v1:             Vulnerable: __user pointer sanitization and usercopy b\n",
            "                          arriers only; no swapgs barriers\n",
            "  Spectre v2:             Vulnerable; IBPB: disabled; STIBP: disabled; PBRSB-eIB\n",
            "                          RS: Vulnerable; BHI: Vulnerable\n",
            "  Srbds:                  Not affected\n",
            "  Tsx async abort:        Vulnerable\n"
          ]
        }
      ]
    },
    {
      "cell_type": "code",
      "source": [
        "# list all GPU devices\n",
        "!nvidia-smi -L"
      ],
      "metadata": {
        "colab": {
          "base_uri": "https://localhost:8080/"
        },
        "id": "x668KvFCGdtn",
        "outputId": "dc8f33bc-3bbf-4dee-bf1f-d8347846dd36"
      },
      "execution_count": 5,
      "outputs": [
        {
          "output_type": "stream",
          "name": "stdout",
          "text": [
            "GPU 0: NVIDIA L4 (UUID: GPU-086dfad0-5fb9-854f-ab37-504a916728b0)\n"
          ]
        }
      ]
    },
    {
      "cell_type": "code",
      "source": [
        "#show network info\n",
        "!ifconfig"
      ],
      "metadata": {
        "colab": {
          "base_uri": "https://localhost:8080/"
        },
        "id": "AsAFUJe0Glbl",
        "outputId": "1b355435-08e5-4827-9498-27c5015d3724"
      },
      "execution_count": 6,
      "outputs": [
        {
          "output_type": "stream",
          "name": "stdout",
          "text": [
            "eth0: flags=4163<UP,BROADCAST,RUNNING,MULTICAST>  mtu 1500\n",
            "        inet 172.28.0.12  netmask 255.255.0.0  broadcast 172.28.255.255\n",
            "        ether 02:42:ac:1c:00:0c  txqueuelen 0  (Ethernet)\n",
            "        RX packets 387  bytes 53758 (53.7 KB)\n",
            "        RX errors 0  dropped 0  overruns 0  frame 0\n",
            "        TX packets 292  bytes 148788 (148.7 KB)\n",
            "        TX errors 0  dropped 0 overruns 0  carrier 0  collisions 0\n",
            "\n",
            "lo: flags=73<UP,LOOPBACK,RUNNING>  mtu 65536\n",
            "        inet 127.0.0.1  netmask 255.0.0.0\n",
            "        loop  txqueuelen 1000  (Local Loopback)\n",
            "        RX packets 1305  bytes 322156 (322.1 KB)\n",
            "        RX errors 0  dropped 0  overruns 0  frame 0\n",
            "        TX packets 1305  bytes 322156 (322.1 KB)\n",
            "        TX errors 0  dropped 0 overruns 0  carrier 0  collisions 0\n",
            "\n"
          ]
        }
      ]
    },
    {
      "cell_type": "code",
      "source": [
        "#sow HBM(VRAM) info\n",
        "!nvidia-smi --query-gpu=memory.total,memory.used,memory.free,temperature.memory --format=csv"
      ],
      "metadata": {
        "colab": {
          "base_uri": "https://localhost:8080/"
        },
        "id": "2GF31YyVGr5S",
        "outputId": "91363427-aafe-44e3-a9c7-d6ec867a77a1"
      },
      "execution_count": 7,
      "outputs": [
        {
          "output_type": "stream",
          "name": "stdout",
          "text": [
            "memory.total [MiB], memory.used [MiB], memory.free [MiB], temperature.memory\n",
            "23034 MiB, 0 MiB, 22692 MiB, N/A\n"
          ]
        }
      ]
    },
    {
      "cell_type": "code",
      "source": [
        "#show DRAM info (short)\n",
        "!free -h"
      ],
      "metadata": {
        "colab": {
          "base_uri": "https://localhost:8080/"
        },
        "id": "as8I0_BHGvWI",
        "outputId": "24620977-b957-400d-a31d-358c09dff0e2"
      },
      "execution_count": 8,
      "outputs": [
        {
          "output_type": "stream",
          "name": "stdout",
          "text": [
            "               total        used        free      shared  buff/cache   available\n",
            "Mem:            52Gi       889Mi        47Gi       1.0Mi       4.7Gi        51Gi\n",
            "Swap:             0B          0B          0B\n"
          ]
        }
      ]
    },
    {
      "cell_type": "code",
      "source": [
        "#show DRAM info (full)\n",
        "!cat /proc/meminfo"
      ],
      "metadata": {
        "colab": {
          "base_uri": "https://localhost:8080/"
        },
        "id": "NUz4mBqCGzz0",
        "outputId": "13aa0829-0be9-4aa9-9919-a6d82ea43fb4"
      },
      "execution_count": 9,
      "outputs": [
        {
          "output_type": "stream",
          "name": "stdout",
          "text": [
            "MemTotal:       55533064 kB\n",
            "MemFree:        49709376 kB\n",
            "MemAvailable:   54038512 kB\n",
            "Buffers:          437564 kB\n",
            "Cached:          4356500 kB\n",
            "SwapCached:            0 kB\n",
            "Active:           810008 kB\n",
            "Inactive:        4552920 kB\n",
            "Active(anon):       1352 kB\n",
            "Inactive(anon):   569456 kB\n",
            "Active(file):     808656 kB\n",
            "Inactive(file):  3983464 kB\n",
            "Unevictable:           8 kB\n",
            "Mlocked:               8 kB\n",
            "SwapTotal:             0 kB\n",
            "SwapFree:              0 kB\n",
            "Dirty:               228 kB\n",
            "Writeback:             0 kB\n",
            "AnonPages:        568944 kB\n",
            "Mapped:           325984 kB\n",
            "Shmem:              1936 kB\n",
            "KReclaimable:     126040 kB\n",
            "Slab:             193932 kB\n",
            "SReclaimable:     126040 kB\n",
            "SUnreclaim:        67892 kB\n",
            "KernelStack:        9220 kB\n",
            "PageTables:         9260 kB\n",
            "SecPageTables:         0 kB\n",
            "NFS_Unstable:          0 kB\n",
            "Bounce:                0 kB\n",
            "WritebackTmp:          0 kB\n",
            "CommitLimit:    27766532 kB\n",
            "Committed_AS:    3869964 kB\n",
            "VmallocTotal:   34359738367 kB\n",
            "VmallocUsed:       90648 kB\n",
            "VmallocChunk:          0 kB\n",
            "Percpu:             8768 kB\n",
            "HardwareCorrupted:     0 kB\n",
            "AnonHugePages:         0 kB\n",
            "ShmemHugePages:        0 kB\n",
            "ShmemPmdMapped:        0 kB\n",
            "FileHugePages:         0 kB\n",
            "FilePmdMapped:         0 kB\n",
            "CmaTotal:              0 kB\n",
            "CmaFree:               0 kB\n",
            "Unaccepted:            0 kB\n",
            "HugePages_Total:       0\n",
            "HugePages_Free:        0\n",
            "HugePages_Rsvd:        0\n",
            "HugePages_Surp:        0\n",
            "Hugepagesize:       2048 kB\n",
            "Hugetlb:               0 kB\n",
            "DirectMap4k:      199472 kB\n",
            "DirectMap2M:     7137280 kB\n",
            "DirectMap1G:    51380224 kB\n"
          ]
        }
      ]
    },
    {
      "cell_type": "code",
      "source": [
        "#show SSD/HDD disk info\n",
        "!lsblk"
      ],
      "metadata": {
        "colab": {
          "base_uri": "https://localhost:8080/"
        },
        "id": "PXlCuu3cG5GG",
        "outputId": "5e688f89-2274-4236-ad85-36d7f9e3c16e"
      },
      "execution_count": 10,
      "outputs": [
        {
          "output_type": "stream",
          "name": "stdout",
          "text": [
            "NAME         MAJ:MIN RM   SIZE RO TYPE MOUNTPOINTS\n",
            "loop0          7:0    0   240G  0 loop \n",
            "nvme0n1      259:0    0   250G  0 disk \n",
            "├─nvme0n1p1  259:1    0 245.8G  0 part /opt/bin/.nvidia\n",
            "│                                      /etc/hosts\n",
            "│                                      /etc/hostname\n",
            "│                                      /etc/resolv.conf\n",
            "│                                      /usr/lib64-nvidia\n",
            "│                                      /kaggle/input\n",
            "├─nvme0n1p2  259:2    0    16M  0 part \n",
            "├─nvme0n1p3  259:3    0     2G  0 part \n",
            "├─nvme0n1p4  259:4    0    16M  0 part \n",
            "├─nvme0n1p5  259:5    0     2G  0 part \n",
            "├─nvme0n1p6  259:6    0   512B  0 part \n",
            "├─nvme0n1p7  259:7    0   512B  0 part \n",
            "├─nvme0n1p8  259:8    0    16M  0 part \n",
            "├─nvme0n1p9  259:9    0   512B  0 part \n",
            "├─nvme0n1p10 259:10   0   512B  0 part \n",
            "├─nvme0n1p11 259:11   0     8M  0 part \n",
            "└─nvme0n1p12 259:12   0    32M  0 part \n"
          ]
        }
      ]
    },
    {
      "cell_type": "code",
      "source": [
        "!apt install hwloc"
      ],
      "metadata": {
        "colab": {
          "base_uri": "https://localhost:8080/"
        },
        "id": "qwReC78EKAys",
        "outputId": "0cce506d-f7e9-4f68-eedb-8fbe10203d23"
      },
      "execution_count": 14,
      "outputs": [
        {
          "output_type": "stream",
          "name": "stdout",
          "text": [
            "Reading package lists... Done\n",
            "Building dependency tree... Done\n",
            "Reading state information... Done\n",
            "The following NEW packages will be installed:\n",
            "  hwloc\n",
            "0 upgraded, 1 newly installed, 0 to remove and 35 not upgraded.\n",
            "Need to get 223 kB of archives.\n",
            "After this operation, 766 kB of additional disk space will be used.\n",
            "Get:1 http://archive.ubuntu.com/ubuntu jammy-updates/universe amd64 hwloc amd64 2.7.0-2ubuntu1 [223 kB]\n",
            "Fetched 223 kB in 1s (214 kB/s)\n",
            "Selecting previously unselected package hwloc.\n",
            "(Reading database ... 126111 files and directories currently installed.)\n",
            "Preparing to unpack .../hwloc_2.7.0-2ubuntu1_amd64.deb ...\n",
            "Unpacking hwloc (2.7.0-2ubuntu1) ...\n",
            "Setting up hwloc (2.7.0-2ubuntu1) ...\n",
            "Processing triggers for man-db (2.10.2-1) ...\n",
            "Processing triggers for mailcap (3.70+nmu1ubuntu1) ...\n"
          ]
        }
      ]
    },
    {
      "cell_type": "code",
      "source": [
        "!lstopo"
      ],
      "metadata": {
        "colab": {
          "base_uri": "https://localhost:8080/"
        },
        "id": "nuXkfMi6KZ9J",
        "outputId": "e4634aae-dbb6-449c-f664-3c275cf24a3b"
      },
      "execution_count": 15,
      "outputs": [
        {
          "output_type": "stream",
          "name": "stdout",
          "text": [
            "Machine (53GB total)\n",
            "  Package L#0\n",
            "    NUMANode L#0 (P#0 53GB)\n",
            "    L3 L#0 (39MB)\n",
            "      L2 L#0 (1024KB) + L1d L#0 (32KB) + L1i L#0 (32KB) + Core L#0\n",
            "        PU L#0 (P#0)\n",
            "        PU L#1 (P#6)\n",
            "      L2 L#1 (1024KB) + L1d L#1 (32KB) + L1i L#1 (32KB) + Core L#1\n",
            "        PU L#2 (P#1)\n",
            "        PU L#3 (P#7)\n",
            "      L2 L#2 (1024KB) + L1d L#2 (32KB) + L1i L#2 (32KB) + Core L#2\n",
            "        PU L#4 (P#2)\n",
            "        PU L#5 (P#8)\n",
            "      L2 L#3 (1024KB) + L1d L#3 (32KB) + L1i L#3 (32KB) + Core L#3\n",
            "        PU L#6 (P#3)\n",
            "        PU L#7 (P#9)\n",
            "      L2 L#4 (1024KB) + L1d L#4 (32KB) + L1i L#4 (32KB) + Core L#4\n",
            "        PU L#8 (P#4)\n",
            "        PU L#9 (P#10)\n",
            "      L2 L#5 (1024KB) + L1d L#5 (32KB) + L1i L#5 (32KB) + Core L#5\n",
            "        PU L#10 (P#5)\n",
            "        PU L#11 (P#11)\n",
            "  HostBridge\n",
            "    PCI 00:03.0 (3D)\n",
            "    PCI 00:04.0 (Ethernet)\n",
            "    PCI 00:05.0 (Other)\n",
            "    PCI 00:06.0 (NVMExp)\n",
            "      Block(Disk) \"nvme0n1\"\n"
          ]
        }
      ]
    },
    {
      "cell_type": "code",
      "source": [
        "#simplified topo info\n",
        "!lstopo -s"
      ],
      "metadata": {
        "colab": {
          "base_uri": "https://localhost:8080/"
        },
        "id": "YiGpVQJhKof5",
        "outputId": "166d7cf5-cecc-4cec-ee17-e32cfa2248b1"
      },
      "execution_count": 18,
      "outputs": [
        {
          "output_type": "stream",
          "name": "stdout",
          "text": [
            "depth 0:           1 Machine (type #0)\n",
            " depth 1:          1 Package (type #1)\n",
            "  depth 2:         1 L3Cache (type #6)\n",
            "   depth 3:        6 L2Cache (type #5)\n",
            "    depth 4:       6 L1dCache (type #4)\n",
            "     depth 5:      6 L1iCache (type #9)\n",
            "      depth 6:     6 Core (type #2)\n",
            "       depth 7:    12 PU (type #3)\n",
            "Special depth -3:  1 NUMANode (type #13)\n",
            "Special depth -4:  1 Bridge (type #14)\n",
            "Special depth -5:  4 PCIDev (type #15)\n",
            "Special depth -6:  1 OSDev (type #16)\n"
          ]
        }
      ]
    },
    {
      "cell_type": "code",
      "source": [
        "#detailed topo info\n",
        "!lstopo -v --of xml"
      ],
      "metadata": {
        "colab": {
          "base_uri": "https://localhost:8080/"
        },
        "id": "Yr3Gsoh2K4RP",
        "outputId": "81e59146-f486-4201-c0e4-61c3d5eef67d"
      },
      "execution_count": 25,
      "outputs": [
        {
          "output_type": "stream",
          "name": "stdout",
          "text": [
            "<?xml version=\"1.0\" encoding=\"UTF-8\"?>\n",
            "<!DOCTYPE topology SYSTEM \"hwloc2.dtd\">\n",
            "<topology version=\"2.0\">\n",
            "  <object type=\"Machine\" os_index=\"0\" cpuset=\"0x00000fff\" complete_cpuset=\"0x00000fff\" allowed_cpuset=\"0x00000fff\" nodeset=\"0x00000001\" complete_nodeset=\"0x00000001\" allowed_nodeset=\"0x00000001\" gp_index=\"1\">\n",
            "    <info name=\"DMIProductName\" value=\"Google Compute Engine\"/>\n",
            "    <info name=\"DMIProductVersion\" value=\"\"/>\n",
            "    <info name=\"DMIProductSerial\" value=\"GoogleCloud-D85D60ABC7E51DB613090ACC14372EFC\"/>\n",
            "    <info name=\"DMIProductUUID\" value=\"d85d60ab-c7e5-1db6-1309-0acc14372efc\"/>\n",
            "    <info name=\"DMIBoardVendor\" value=\"Google\"/>\n",
            "    <info name=\"DMIBoardName\" value=\"Google Compute Engine\"/>\n",
            "    <info name=\"DMIBoardVersion\" value=\"\"/>\n",
            "    <info name=\"DMIBoardSerial\" value=\"Board-GoogleCloud-D85D60ABC7E51DB613090ACC14372EFC\"/>\n",
            "    <info name=\"DMIBoardAssetTag\" value=\"D85D60AB-C7E5-1DB6-1309-0ACC14372EFC\"/>\n",
            "    <info name=\"DMIChassisVendor\" value=\"Google\"/>\n",
            "    <info name=\"DMIChassisType\" value=\"1\"/>\n",
            "    <info name=\"DMIChassisVersion\" value=\"\"/>\n",
            "    <info name=\"DMIChassisSerial\" value=\"\"/>\n",
            "    <info name=\"DMIChassisAssetTag\" value=\"\"/>\n",
            "    <info name=\"DMIBIOSVendor\" value=\"Google\"/>\n",
            "    <info name=\"DMIBIOSVersion\" value=\"Google\"/>\n",
            "    <info name=\"DMIBIOSDate\" value=\"05/21/2025\"/>\n",
            "    <info name=\"DMISysVendor\" value=\"Google\"/>\n",
            "    <info name=\"Backend\" value=\"Linux\"/>\n",
            "    <info name=\"LinuxCgroup\" value=\"/../../jupyter-children\"/>\n",
            "    <info name=\"OSName\" value=\"Linux\"/>\n",
            "    <info name=\"OSRelease\" value=\"6.1.123+\"/>\n",
            "    <info name=\"OSVersion\" value=\"#1 SMP PREEMPT_DYNAMIC Sun Mar 30 16:01:29 UTC 2025\"/>\n",
            "    <info name=\"HostName\" value=\"467158f4e90d\"/>\n",
            "    <info name=\"Architecture\" value=\"x86_64\"/>\n",
            "    <info name=\"hwlocVersion\" value=\"2.9.3\"/>\n",
            "    <info name=\"ProcessName\" value=\"lstopo\"/>\n",
            "    <object type=\"Package\" os_index=\"0\" cpuset=\"0x00000fff\" complete_cpuset=\"0x00000fff\" nodeset=\"0x00000001\" complete_nodeset=\"0x00000001\" gp_index=\"3\">\n",
            "      <info name=\"CPUVendor\" value=\"GenuineIntel\"/>\n",
            "      <info name=\"CPUFamilyNumber\" value=\"6\"/>\n",
            "      <info name=\"CPUModelNumber\" value=\"85\"/>\n",
            "      <info name=\"CPUModel\" value=\"Intel(R) Xeon(R) CPU @ 2.20GHz\"/>\n",
            "      <info name=\"CPUStepping\" value=\"7\"/>\n",
            "      <object type=\"NUMANode\" os_index=\"0\" cpuset=\"0x00000fff\" complete_cpuset=\"0x00000fff\" nodeset=\"0x00000001\" complete_nodeset=\"0x00000001\" gp_index=\"46\" local_memory=\"56865857536\">\n",
            "        <page_type size=\"4096\" count=\"13883266\"/>\n",
            "        <page_type size=\"2097152\" count=\"0\"/>\n",
            "        <page_type size=\"1073741824\" count=\"0\"/>\n",
            "      </object>\n",
            "      <object type=\"L3Cache\" os_index=\"0\" cpuset=\"0x00000fff\" complete_cpuset=\"0x00000fff\" nodeset=\"0x00000001\" complete_nodeset=\"0x00000001\" gp_index=\"9\" cache_size=\"40370176\" depth=\"3\" cache_linesize=\"64\" cache_associativity=\"11\" cache_type=\"0\">\n",
            "        <info name=\"Inclusive\" value=\"0\"/>\n",
            "        <object type=\"L2Cache\" os_index=\"0\" cpuset=\"0x00000041\" complete_cpuset=\"0x00000041\" nodeset=\"0x00000001\" complete_nodeset=\"0x00000001\" gp_index=\"8\" cache_size=\"1048576\" depth=\"2\" cache_linesize=\"64\" cache_associativity=\"16\" cache_type=\"0\">\n",
            "          <info name=\"Inclusive\" value=\"0\"/>\n",
            "          <object type=\"L1Cache\" os_index=\"0\" cpuset=\"0x00000041\" complete_cpuset=\"0x00000041\" nodeset=\"0x00000001\" complete_nodeset=\"0x00000001\" gp_index=\"6\" cache_size=\"32768\" depth=\"1\" cache_linesize=\"64\" cache_associativity=\"8\" cache_type=\"1\">\n",
            "            <info name=\"Inclusive\" value=\"0\"/>\n",
            "            <object type=\"L1iCache\" os_index=\"0\" cpuset=\"0x00000041\" complete_cpuset=\"0x00000041\" nodeset=\"0x00000001\" complete_nodeset=\"0x00000001\" gp_index=\"7\" cache_size=\"32768\" depth=\"1\" cache_linesize=\"64\" cache_associativity=\"8\" cache_type=\"2\">\n",
            "              <info name=\"Inclusive\" value=\"0\"/>\n",
            "              <object type=\"Core\" os_index=\"0\" cpuset=\"0x00000041\" complete_cpuset=\"0x00000041\" nodeset=\"0x00000001\" complete_nodeset=\"0x00000001\" gp_index=\"2\">\n",
            "                <object type=\"PU\" os_index=\"0\" cpuset=\"0x00000001\" complete_cpuset=\"0x00000001\" nodeset=\"0x00000001\" complete_nodeset=\"0x00000001\" gp_index=\"5\"/>\n",
            "                <object type=\"PU\" os_index=\"6\" cpuset=\"0x00000040\" complete_cpuset=\"0x00000040\" nodeset=\"0x00000001\" complete_nodeset=\"0x00000001\" gp_index=\"40\"/>\n",
            "              </object>\n",
            "            </object>\n",
            "          </object>\n",
            "        </object>\n",
            "        <object type=\"L2Cache\" os_index=\"1\" cpuset=\"0x00000082\" complete_cpuset=\"0x00000082\" nodeset=\"0x00000001\" complete_nodeset=\"0x00000001\" gp_index=\"15\" cache_size=\"1048576\" depth=\"2\" cache_linesize=\"64\" cache_associativity=\"16\" cache_type=\"0\">\n",
            "          <info name=\"Inclusive\" value=\"0\"/>\n",
            "          <object type=\"L1Cache\" os_index=\"1\" cpuset=\"0x00000082\" complete_cpuset=\"0x00000082\" nodeset=\"0x00000001\" complete_nodeset=\"0x00000001\" gp_index=\"13\" cache_size=\"32768\" depth=\"1\" cache_linesize=\"64\" cache_associativity=\"8\" cache_type=\"1\">\n",
            "            <info name=\"Inclusive\" value=\"0\"/>\n",
            "            <object type=\"L1iCache\" os_index=\"1\" cpuset=\"0x00000082\" complete_cpuset=\"0x00000082\" nodeset=\"0x00000001\" complete_nodeset=\"0x00000001\" gp_index=\"14\" cache_size=\"32768\" depth=\"1\" cache_linesize=\"64\" cache_associativity=\"8\" cache_type=\"2\">\n",
            "              <info name=\"Inclusive\" value=\"0\"/>\n",
            "              <object type=\"Core\" os_index=\"1\" cpuset=\"0x00000082\" complete_cpuset=\"0x00000082\" nodeset=\"0x00000001\" complete_nodeset=\"0x00000001\" gp_index=\"10\">\n",
            "                <object type=\"PU\" os_index=\"1\" cpuset=\"0x00000002\" complete_cpuset=\"0x00000002\" nodeset=\"0x00000001\" complete_nodeset=\"0x00000001\" gp_index=\"12\"/>\n",
            "                <object type=\"PU\" os_index=\"7\" cpuset=\"0x00000080\" complete_cpuset=\"0x00000080\" nodeset=\"0x00000001\" complete_nodeset=\"0x00000001\" gp_index=\"41\"/>\n",
            "              </object>\n",
            "            </object>\n",
            "          </object>\n",
            "        </object>\n",
            "        <object type=\"L2Cache\" os_index=\"2\" cpuset=\"0x00000104\" complete_cpuset=\"0x00000104\" nodeset=\"0x00000001\" complete_nodeset=\"0x00000001\" gp_index=\"21\" cache_size=\"1048576\" depth=\"2\" cache_linesize=\"64\" cache_associativity=\"16\" cache_type=\"0\">\n",
            "          <info name=\"Inclusive\" value=\"0\"/>\n",
            "          <object type=\"L1Cache\" os_index=\"2\" cpuset=\"0x00000104\" complete_cpuset=\"0x00000104\" nodeset=\"0x00000001\" complete_nodeset=\"0x00000001\" gp_index=\"19\" cache_size=\"32768\" depth=\"1\" cache_linesize=\"64\" cache_associativity=\"8\" cache_type=\"1\">\n",
            "            <info name=\"Inclusive\" value=\"0\"/>\n",
            "            <object type=\"L1iCache\" os_index=\"2\" cpuset=\"0x00000104\" complete_cpuset=\"0x00000104\" nodeset=\"0x00000001\" complete_nodeset=\"0x00000001\" gp_index=\"20\" cache_size=\"32768\" depth=\"1\" cache_linesize=\"64\" cache_associativity=\"8\" cache_type=\"2\">\n",
            "              <info name=\"Inclusive\" value=\"0\"/>\n",
            "              <object type=\"Core\" os_index=\"2\" cpuset=\"0x00000104\" complete_cpuset=\"0x00000104\" nodeset=\"0x00000001\" complete_nodeset=\"0x00000001\" gp_index=\"16\">\n",
            "                <object type=\"PU\" os_index=\"2\" cpuset=\"0x00000004\" complete_cpuset=\"0x00000004\" nodeset=\"0x00000001\" complete_nodeset=\"0x00000001\" gp_index=\"18\"/>\n",
            "                <object type=\"PU\" os_index=\"8\" cpuset=\"0x00000100\" complete_cpuset=\"0x00000100\" nodeset=\"0x00000001\" complete_nodeset=\"0x00000001\" gp_index=\"42\"/>\n",
            "              </object>\n",
            "            </object>\n",
            "          </object>\n",
            "        </object>\n",
            "        <object type=\"L2Cache\" os_index=\"3\" cpuset=\"0x00000208\" complete_cpuset=\"0x00000208\" nodeset=\"0x00000001\" complete_nodeset=\"0x00000001\" gp_index=\"27\" cache_size=\"1048576\" depth=\"2\" cache_linesize=\"64\" cache_associativity=\"16\" cache_type=\"0\">\n",
            "          <info name=\"Inclusive\" value=\"0\"/>\n",
            "          <object type=\"L1Cache\" os_index=\"3\" cpuset=\"0x00000208\" complete_cpuset=\"0x00000208\" nodeset=\"0x00000001\" complete_nodeset=\"0x00000001\" gp_index=\"25\" cache_size=\"32768\" depth=\"1\" cache_linesize=\"64\" cache_associativity=\"8\" cache_type=\"1\">\n",
            "            <info name=\"Inclusive\" value=\"0\"/>\n",
            "            <object type=\"L1iCache\" os_index=\"3\" cpuset=\"0x00000208\" complete_cpuset=\"0x00000208\" nodeset=\"0x00000001\" complete_nodeset=\"0x00000001\" gp_index=\"26\" cache_size=\"32768\" depth=\"1\" cache_linesize=\"64\" cache_associativity=\"8\" cache_type=\"2\">\n",
            "              <info name=\"Inclusive\" value=\"0\"/>\n",
            "              <object type=\"Core\" os_index=\"3\" cpuset=\"0x00000208\" complete_cpuset=\"0x00000208\" nodeset=\"0x00000001\" complete_nodeset=\"0x00000001\" gp_index=\"22\">\n",
            "                <object type=\"PU\" os_index=\"3\" cpuset=\"0x00000008\" complete_cpuset=\"0x00000008\" nodeset=\"0x00000001\" complete_nodeset=\"0x00000001\" gp_index=\"24\"/>\n",
            "                <object type=\"PU\" os_index=\"9\" cpuset=\"0x00000200\" complete_cpuset=\"0x00000200\" nodeset=\"0x00000001\" complete_nodeset=\"0x00000001\" gp_index=\"43\"/>\n",
            "              </object>\n",
            "            </object>\n",
            "          </object>\n",
            "        </object>\n",
            "        <object type=\"L2Cache\" os_index=\"4\" cpuset=\"0x00000410\" complete_cpuset=\"0x00000410\" nodeset=\"0x00000001\" complete_nodeset=\"0x00000001\" gp_index=\"33\" cache_size=\"1048576\" depth=\"2\" cache_linesize=\"64\" cache_associativity=\"16\" cache_type=\"0\">\n",
            "          <info name=\"Inclusive\" value=\"0\"/>\n",
            "          <object type=\"L1Cache\" os_index=\"4\" cpuset=\"0x00000410\" complete_cpuset=\"0x00000410\" nodeset=\"0x00000001\" complete_nodeset=\"0x00000001\" gp_index=\"31\" cache_size=\"32768\" depth=\"1\" cache_linesize=\"64\" cache_associativity=\"8\" cache_type=\"1\">\n",
            "            <info name=\"Inclusive\" value=\"0\"/>\n",
            "            <object type=\"L1iCache\" os_index=\"4\" cpuset=\"0x00000410\" complete_cpuset=\"0x00000410\" nodeset=\"0x00000001\" complete_nodeset=\"0x00000001\" gp_index=\"32\" cache_size=\"32768\" depth=\"1\" cache_linesize=\"64\" cache_associativity=\"8\" cache_type=\"2\">\n",
            "              <info name=\"Inclusive\" value=\"0\"/>\n",
            "              <object type=\"Core\" os_index=\"4\" cpuset=\"0x00000410\" complete_cpuset=\"0x00000410\" nodeset=\"0x00000001\" complete_nodeset=\"0x00000001\" gp_index=\"28\">\n",
            "                <object type=\"PU\" os_index=\"4\" cpuset=\"0x00000010\" complete_cpuset=\"0x00000010\" nodeset=\"0x00000001\" complete_nodeset=\"0x00000001\" gp_index=\"30\"/>\n",
            "                <object type=\"PU\" os_index=\"10\" cpuset=\"0x00000400\" complete_cpuset=\"0x00000400\" nodeset=\"0x00000001\" complete_nodeset=\"0x00000001\" gp_index=\"44\"/>\n",
            "              </object>\n",
            "            </object>\n",
            "          </object>\n",
            "        </object>\n",
            "        <object type=\"L2Cache\" os_index=\"5\" cpuset=\"0x00000820\" complete_cpuset=\"0x00000820\" nodeset=\"0x00000001\" complete_nodeset=\"0x00000001\" gp_index=\"39\" cache_size=\"1048576\" depth=\"2\" cache_linesize=\"64\" cache_associativity=\"16\" cache_type=\"0\">\n",
            "          <info name=\"Inclusive\" value=\"0\"/>\n",
            "          <object type=\"L1Cache\" os_index=\"5\" cpuset=\"0x00000820\" complete_cpuset=\"0x00000820\" nodeset=\"0x00000001\" complete_nodeset=\"0x00000001\" gp_index=\"37\" cache_size=\"32768\" depth=\"1\" cache_linesize=\"64\" cache_associativity=\"8\" cache_type=\"1\">\n",
            "            <info name=\"Inclusive\" value=\"0\"/>\n",
            "            <object type=\"L1iCache\" os_index=\"5\" cpuset=\"0x00000820\" complete_cpuset=\"0x00000820\" nodeset=\"0x00000001\" complete_nodeset=\"0x00000001\" gp_index=\"38\" cache_size=\"32768\" depth=\"1\" cache_linesize=\"64\" cache_associativity=\"8\" cache_type=\"2\">\n",
            "              <info name=\"Inclusive\" value=\"0\"/>\n",
            "              <object type=\"Core\" os_index=\"5\" cpuset=\"0x00000820\" complete_cpuset=\"0x00000820\" nodeset=\"0x00000001\" complete_nodeset=\"0x00000001\" gp_index=\"34\">\n",
            "                <object type=\"PU\" os_index=\"5\" cpuset=\"0x00000020\" complete_cpuset=\"0x00000020\" nodeset=\"0x00000001\" complete_nodeset=\"0x00000001\" gp_index=\"36\"/>\n",
            "                <object type=\"PU\" os_index=\"11\" cpuset=\"0x00000800\" complete_cpuset=\"0x00000800\" nodeset=\"0x00000001\" complete_nodeset=\"0x00000001\" gp_index=\"45\"/>\n",
            "              </object>\n",
            "            </object>\n",
            "          </object>\n",
            "        </object>\n",
            "      </object>\n",
            "    </object>\n",
            "    <object type=\"Bridge\" gp_index=\"54\" bridge_type=\"0-1\" depth=\"0\" bridge_pci=\"0000:[00-00]\">\n",
            "      <object type=\"PCIDev\" gp_index=\"51\" pci_busid=\"0000:00:03.0\" pci_type=\"0302 [10de:27b8] [10de:16ee] a1\" pci_link_speed=\"0.000000\"/>\n",
            "      <object type=\"PCIDev\" gp_index=\"48\" pci_busid=\"0000:00:04.0\" pci_type=\"0200 [1af4:1000] [1af4:0001] 00\" pci_link_speed=\"0.000000\"/>\n",
            "      <object type=\"PCIDev\" gp_index=\"53\" pci_busid=\"0000:00:05.0\" pci_type=\"00ff [1af4:1005] [1af4:0004] 00\" pci_link_speed=\"0.000000\"/>\n",
            "      <object type=\"PCIDev\" gp_index=\"52\" pci_busid=\"0000:00:06.0\" pci_type=\"0108 [1ae0:001f] [0000:0000] 01\" pci_link_speed=\"0.000000\">\n",
            "        <object type=\"OSDev\" gp_index=\"55\" name=\"nvme0n1\" subtype=\"Disk\" osdev_type=\"0\">\n",
            "          <info name=\"Size\" value=\"262144000\"/>\n",
            "          <info name=\"SectorSize\" value=\"512\"/>\n",
            "          <info name=\"LinuxDeviceID\" value=\"259:0\"/>\n",
            "        </object>\n",
            "      </object>\n",
            "    </object>\n",
            "  </object>\n",
            "  <support name=\"discovery.pu\"/>\n",
            "  <support name=\"discovery.numa\"/>\n",
            "  <support name=\"discovery.numa_memory\"/>\n",
            "  <support name=\"discovery.disallowed_pu\"/>\n",
            "  <support name=\"discovery.disallowed_numa\"/>\n",
            "  <support name=\"cpubind.set_thisproc_cpubind\"/>\n",
            "  <support name=\"cpubind.get_thisproc_cpubind\"/>\n",
            "  <support name=\"cpubind.set_proc_cpubind\"/>\n",
            "  <support name=\"cpubind.get_proc_cpubind\"/>\n",
            "  <support name=\"cpubind.set_thisthread_cpubind\"/>\n",
            "  <support name=\"cpubind.get_thisthread_cpubind\"/>\n",
            "  <support name=\"cpubind.set_thread_cpubind\"/>\n",
            "  <support name=\"cpubind.get_thread_cpubind\"/>\n",
            "  <support name=\"cpubind.get_thisproc_last_cpu_location\"/>\n",
            "  <support name=\"cpubind.get_proc_last_cpu_location\"/>\n",
            "  <support name=\"cpubind.get_thisthread_last_cpu_location\"/>\n",
            "  <support name=\"membind.set_thisthread_membind\"/>\n",
            "  <support name=\"membind.get_thisthread_membind\"/>\n",
            "  <support name=\"membind.set_area_membind\"/>\n",
            "  <support name=\"membind.get_area_membind\"/>\n",
            "  <support name=\"membind.alloc_membind\"/>\n",
            "  <support name=\"membind.firsttouch_membind\"/>\n",
            "  <support name=\"membind.bind_membind\"/>\n",
            "  <support name=\"membind.interleave_membind\"/>\n",
            "  <support name=\"membind.migrate_membind\"/>\n",
            "  <support name=\"membind.get_area_memlocation\"/>\n",
            "  <support name=\"custom.exported_support\"/>\n",
            "</topology>\n"
          ]
        }
      ]
    },
    {
      "cell_type": "code",
      "source": [
        "!apt install pciutils"
      ],
      "metadata": {
        "colab": {
          "base_uri": "https://localhost:8080/"
        },
        "id": "oUS7_M2xMN3S",
        "outputId": "bbb2ea93-48b5-481a-9a2b-324abbc58787"
      },
      "execution_count": 21,
      "outputs": [
        {
          "output_type": "stream",
          "name": "stdout",
          "text": [
            "Reading package lists... Done\n",
            "Building dependency tree... Done\n",
            "Reading state information... Done\n",
            "pciutils is already the newest version (1:3.7.0-6).\n",
            "0 upgraded, 0 newly installed, 0 to remove and 35 not upgraded.\n"
          ]
        }
      ]
    },
    {
      "cell_type": "code",
      "source": [
        "!lspci"
      ],
      "metadata": {
        "colab": {
          "base_uri": "https://localhost:8080/"
        },
        "id": "1wID8SpyMYAB",
        "outputId": "6843324c-a277-4a31-f580-28ae84b8abb7"
      },
      "execution_count": 22,
      "outputs": [
        {
          "output_type": "stream",
          "name": "stdout",
          "text": [
            "00:00.0 Host bridge: Intel Corporation 440FX - 82441FX PMC [Natoma] (rev 02)\n",
            "00:01.0 ISA bridge: Intel Corporation 82371AB/EB/MB PIIX4 ISA (rev 03)\n",
            "00:01.3 Bridge: Intel Corporation 82371AB/EB/MB PIIX4 ACPI (rev 03)\n",
            "00:03.0 3D controller: NVIDIA Corporation Device 27b8 (rev a1)\n",
            "00:04.0 Ethernet controller: Red Hat, Inc. Virtio network device\n",
            "00:05.0 Unclassified device [00ff]: Red Hat, Inc. Virtio RNG\n",
            "00:06.0 Non-Volatile memory controller: Google, Inc. Device 001f (rev 01)\n"
          ]
        }
      ]
    },
    {
      "cell_type": "code",
      "source": [
        "!lspci -t"
      ],
      "metadata": {
        "colab": {
          "base_uri": "https://localhost:8080/"
        },
        "id": "EursZMRDMt9B",
        "outputId": "e637acf4-099c-4df8-ba55-11ad9abdc40e"
      },
      "execution_count": 23,
      "outputs": [
        {
          "output_type": "stream",
          "name": "stdout",
          "text": [
            "-[0000:00]-+-00.0\n",
            "           +-01.0\n",
            "           +-01.3\n",
            "           +-03.0\n",
            "           +-04.0\n",
            "           +-05.0\n",
            "           \\-06.0\n"
          ]
        }
      ]
    }
  ]
}
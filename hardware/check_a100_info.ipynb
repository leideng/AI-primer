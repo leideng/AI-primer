{
  "nbformat": 4,
  "nbformat_minor": 0,
  "metadata": {
    "colab": {
      "provenance": [],
      "machine_shape": "hm",
      "gpuType": "A100",
      "mount_file_id": "https://github.com/leideng/AI-primer/blob/main/hardware/check_a100_info.ipynb",
      "authorship_tag": "ABX9TyMYRLKSEwxi7xO/MVzLHs+N",
      "include_colab_link": true
    },
    "kernelspec": {
      "name": "python3",
      "display_name": "Python 3"
    },
    "language_info": {
      "name": "python"
    },
    "accelerator": "GPU"
  },
  "cells": [
    {
      "cell_type": "markdown",
      "metadata": {
        "id": "view-in-github",
        "colab_type": "text"
      },
      "source": [
        "<a href=\"https://colab.research.google.com/github/leideng/AI-primer/blob/main/hardware/check_a100_info.ipynb\" target=\"_parent\"><img src=\"https://colab.research.google.com/assets/colab-badge.svg\" alt=\"Open In Colab\"/></a>"
      ]
    },
    {
      "cell_type": "code",
      "execution_count": null,
      "metadata": {
        "colab": {
          "base_uri": "https://localhost:8080/"
        },
        "id": "dttoJB9Gtz2W",
        "outputId": "563af7bd-7de0-400c-a6a7-7346465ad831"
      },
      "outputs": [
        {
          "output_type": "stream",
          "name": "stdout",
          "text": [
            "Sat Jun 14 13:56:43 2025       \n",
            "+-----------------------------------------------------------------------------------------+\n",
            "| NVIDIA-SMI 550.54.15              Driver Version: 550.54.15      CUDA Version: 12.4     |\n",
            "|-----------------------------------------+------------------------+----------------------+\n",
            "| GPU  Name                 Persistence-M | Bus-Id          Disp.A | Volatile Uncorr. ECC |\n",
            "| Fan  Temp   Perf          Pwr:Usage/Cap |           Memory-Usage | GPU-Util  Compute M. |\n",
            "|                                         |                        |               MIG M. |\n",
            "|=========================================+========================+======================|\n",
            "|   0  NVIDIA A100-SXM4-40GB          Off |   00000000:00:04.0 Off |                    0 |\n",
            "| N/A   31C    P0             45W /  400W |       0MiB /  40960MiB |      0%      Default |\n",
            "|                                         |                        |             Disabled |\n",
            "+-----------------------------------------+------------------------+----------------------+\n",
            "                                                                                         \n",
            "+-----------------------------------------------------------------------------------------+\n",
            "| Processes:                                                                              |\n",
            "|  GPU   GI   CI        PID   Type   Process name                              GPU Memory |\n",
            "|        ID   ID                                                               Usage      |\n",
            "|=========================================================================================|\n",
            "|  No running processes found                                                             |\n",
            "+-----------------------------------------------------------------------------------------+\n"
          ]
        }
      ],
      "source": [
        "#show all GPUs' short info\n",
        "!nvidia-smi"
      ]
    },
    {
      "cell_type": "code",
      "source": [
        "#show all GPUs' full info\n",
        "!nvidia-smi -q"
      ],
      "metadata": {
        "colab": {
          "base_uri": "https://localhost:8080/"
        },
        "id": "eULU2dZju_94",
        "outputId": "4dc111ff-396e-4b3b-dca3-e9b57071959f"
      },
      "execution_count": null,
      "outputs": [
        {
          "output_type": "stream",
          "name": "stdout",
          "text": [
            "\n",
            "==============NVSMI LOG==============\n",
            "\n",
            "Timestamp                                 : Sat Jun 14 14:04:53 2025\n",
            "Driver Version                            : 550.54.15\n",
            "CUDA Version                              : 12.4\n",
            "\n",
            "Attached GPUs                             : 1\n",
            "GPU 00000000:00:04.0\n",
            "    Product Name                          : NVIDIA A100-SXM4-40GB\n",
            "    Product Brand                         : NVIDIA\n",
            "    Product Architecture                  : Ampere\n",
            "    Display Mode                          : Enabled\n",
            "    Display Active                        : Disabled\n",
            "    Persistence Mode                      : Disabled\n",
            "    Addressing Mode                       : None\n",
            "    MIG Mode\n",
            "        Current                           : Disabled\n",
            "        Pending                           : Disabled\n",
            "    Accounting Mode                       : Disabled\n",
            "    Accounting Mode Buffer Size           : 4000\n",
            "    Driver Model\n",
            "        Current                           : N/A\n",
            "        Pending                           : N/A\n",
            "    Serial Number                         : 1321320021134\n",
            "    GPU UUID                              : GPU-d5bda271-190c-af9e-5278-e78e48565944\n",
            "    Minor Number                          : 0\n",
            "    VBIOS Version                         : 92.00.45.00.03\n",
            "    MultiGPU Board                        : No\n",
            "    Board ID                              : 0x4\n",
            "    Board Part Number                     : 692-2G506-0200-000\n",
            "    GPU Part Number                       : 20B0-884-A1\n",
            "    FRU Part Number                       : N/A\n",
            "    Module ID                             : 6\n",
            "    Inforom Version\n",
            "        Image Version                     : G506.0200.00.04\n",
            "        OEM Object                        : 2.0\n",
            "        ECC Object                        : 6.16\n",
            "        Power Management Object           : N/A\n",
            "    Inforom BBX Object Flush\n",
            "        Latest Timestamp                  : N/A\n",
            "        Latest Duration                   : N/A\n",
            "    GPU Operation Mode\n",
            "        Current                           : N/A\n",
            "        Pending                           : N/A\n",
            "    GPU C2C Mode                          : N/A\n",
            "    GPU Virtualization Mode\n",
            "        Virtualization Mode               : Pass-Through\n",
            "        Host VGPU Mode                    : N/A\n",
            "        vGPU Heterogeneous Mode           : N/A\n",
            "    GPU Reset Status\n",
            "        Reset Required                    : No\n",
            "        Drain and Reset Recommended       : No\n",
            "    GSP Firmware Version                  : N/A\n",
            "    IBMNPU\n",
            "        Relaxed Ordering Mode             : N/A\n",
            "    PCI\n",
            "        Bus                               : 0x00\n",
            "        Device                            : 0x04\n",
            "        Domain                            : 0x0000\n",
            "        Base Classcode                    : 0x3\n",
            "        Sub Classcode                     : 0x2\n",
            "        Device Id                         : 0x20B010DE\n",
            "        Bus Id                            : 00000000:00:04.0\n",
            "        Sub System Id                     : 0x134F10DE\n",
            "        GPU Link Info\n",
            "            PCIe Generation\n",
            "                Max                       : 4\n",
            "                Current                   : 4\n",
            "                Device Current            : 4\n",
            "                Device Max                : 4\n",
            "                Host Max                  : N/A\n",
            "            Link Width\n",
            "                Max                       : 16x\n",
            "                Current                   : 16x\n",
            "        Bridge Chip\n",
            "            Type                          : N/A\n",
            "            Firmware                      : N/A\n",
            "        Replays Since Reset               : 0\n",
            "        Replay Number Rollovers           : 0\n",
            "        Tx Throughput                     : 0 KB/s\n",
            "        Rx Throughput                     : 0 KB/s\n",
            "        Atomic Caps Inbound               : N/A\n",
            "        Atomic Caps Outbound              : N/A\n",
            "    Fan Speed                             : N/A\n",
            "    Performance State                     : P0\n",
            "    Clocks Event Reasons\n",
            "        Idle                              : Active\n",
            "        Applications Clocks Setting       : Not Active\n",
            "        SW Power Cap                      : Not Active\n",
            "        HW Slowdown                       : Not Active\n",
            "            HW Thermal Slowdown           : Not Active\n",
            "            HW Power Brake Slowdown       : Not Active\n",
            "        Sync Boost                        : Not Active\n",
            "        SW Thermal Slowdown               : Not Active\n",
            "        Display Clock Setting             : Not Active\n",
            "    Sparse Operation Mode                 : N/A\n",
            "    FB Memory Usage\n",
            "        Total                             : 40960 MiB\n",
            "        Reserved                          : 453 MiB\n",
            "        Used                              : 0 MiB\n",
            "        Free                              : 40506 MiB\n",
            "    BAR1 Memory Usage\n",
            "        Total                             : 65536 MiB\n",
            "        Used                              : 1 MiB\n",
            "        Free                              : 65535 MiB\n",
            "    Conf Compute Protected Memory Usage\n",
            "        Total                             : 0 MiB\n",
            "        Used                              : 0 MiB\n",
            "        Free                              : 0 MiB\n",
            "    Compute Mode                          : Default\n",
            "    Utilization\n",
            "        Gpu                               : 0 %\n",
            "        Memory                            : 0 %\n",
            "        Encoder                           : 0 %\n",
            "        Decoder                           : 0 %\n",
            "        JPEG                              : 0 %\n",
            "        OFA                               : 0 %\n",
            "    Encoder Stats\n",
            "        Active Sessions                   : 0\n",
            "        Average FPS                       : 0\n",
            "        Average Latency                   : 0\n",
            "    FBC Stats\n",
            "        Active Sessions                   : 0\n",
            "        Average FPS                       : 0\n",
            "        Average Latency                   : 0\n",
            "    ECC Mode\n",
            "        Current                           : Enabled\n",
            "        Pending                           : Enabled\n",
            "    ECC Errors\n",
            "        Volatile\n",
            "            SRAM Correctable              : 0\n",
            "            SRAM Uncorrectable Parity     : 0\n",
            "            SRAM Uncorrectable SEC-DED    : 0\n",
            "            DRAM Correctable              : 0\n",
            "            DRAM Uncorrectable            : 0\n",
            "        Aggregate\n",
            "            SRAM Correctable              : 0\n",
            "            SRAM Uncorrectable Parity     : 0\n",
            "            SRAM Uncorrectable SEC-DED    : 0\n",
            "            DRAM Correctable              : 0\n",
            "            DRAM Uncorrectable            : 0\n",
            "            SRAM Threshold Exceeded       : No\n",
            "        Aggregate Uncorrectable SRAM Sources\n",
            "            SRAM L2                       : 0\n",
            "            SRAM SM                       : 0\n",
            "            SRAM Microcontroller          : 0\n",
            "            SRAM PCIE                     : 0\n",
            "            SRAM Other                    : 0\n",
            "    Retired Pages\n",
            "        Single Bit ECC                    : N/A\n",
            "        Double Bit ECC                    : N/A\n",
            "        Pending Page Blacklist            : N/A\n",
            "    Remapped Rows\n",
            "        Correctable Error                 : 0\n",
            "        Uncorrectable Error               : 0\n",
            "        Pending                           : No\n",
            "        Remapping Failure Occurred        : No\n",
            "        Bank Remap Availability Histogram\n",
            "            Max                           : 640 bank(s)\n",
            "            High                          : 0 bank(s)\n",
            "            Partial                       : 0 bank(s)\n",
            "            Low                           : 0 bank(s)\n",
            "            None                          : 0 bank(s)\n",
            "    Temperature\n",
            "        GPU Current Temp                  : 31 C\n",
            "        GPU T.Limit Temp                  : N/A\n",
            "        GPU Shutdown Temp                 : 92 C\n",
            "        GPU Slowdown Temp                 : 89 C\n",
            "        GPU Max Operating Temp            : 85 C\n",
            "        GPU Target Temperature            : N/A\n",
            "        Memory Current Temp               : 31 C\n",
            "        Memory Max Operating Temp         : 95 C\n",
            "    GPU Power Readings\n",
            "        Power Draw                        : 45.31 W\n",
            "        Current Power Limit               : 400.00 W\n",
            "        Requested Power Limit             : 400.00 W\n",
            "        Default Power Limit               : 400.00 W\n",
            "        Min Power Limit                   : 100.00 W\n",
            "        Max Power Limit                   : 400.00 W\n",
            "    GPU Memory Power Readings \n",
            "        Power Draw                        : N/A\n",
            "    Module Power Readings\n",
            "        Power Draw                        : N/A\n",
            "        Current Power Limit               : N/A\n",
            "        Requested Power Limit             : N/A\n",
            "        Default Power Limit               : N/A\n",
            "        Min Power Limit                   : N/A\n",
            "        Max Power Limit                   : N/A\n",
            "    Clocks\n",
            "        Graphics                          : 210 MHz\n",
            "        SM                                : 210 MHz\n",
            "        Memory                            : 1215 MHz\n",
            "        Video                             : 585 MHz\n",
            "    Applications Clocks\n",
            "        Graphics                          : 1095 MHz\n",
            "        Memory                            : 1215 MHz\n",
            "    Default Applications Clocks\n",
            "        Graphics                          : 1095 MHz\n",
            "        Memory                            : 1215 MHz\n",
            "    Deferred Clocks\n",
            "        Memory                            : N/A\n",
            "    Max Clocks\n",
            "        Graphics                          : 1410 MHz\n",
            "        SM                                : 1410 MHz\n",
            "        Memory                            : 1215 MHz\n",
            "        Video                             : 1290 MHz\n",
            "    Max Customer Boost Clocks\n",
            "        Graphics                          : 1410 MHz\n",
            "    Clock Policy\n",
            "        Auto Boost                        : N/A\n",
            "        Auto Boost Default                : N/A\n",
            "    Voltage\n",
            "        Graphics                          : 706.250 mV\n",
            "    Fabric\n",
            "        State                             : N/A\n",
            "        Status                            : N/A\n",
            "        CliqueId                          : N/A\n",
            "        ClusterUUID                       : N/A\n",
            "        Health\n",
            "            Bandwidth                     : N/A\n",
            "    Processes                             : None\n",
            "\n"
          ]
        }
      ]
    },
    {
      "cell_type": "code",
      "source": [
        "#show CPU info\n",
        "!lscpu"
      ],
      "metadata": {
        "colab": {
          "base_uri": "https://localhost:8080/"
        },
        "id": "L-VJLBXLvU_C",
        "outputId": "ed5a0db4-809d-48ac-a963-ff84bb201360"
      },
      "execution_count": null,
      "outputs": [
        {
          "output_type": "stream",
          "name": "stdout",
          "text": [
            "Architecture:             x86_64\n",
            "  CPU op-mode(s):         32-bit, 64-bit\n",
            "  Address sizes:          46 bits physical, 48 bits virtual\n",
            "  Byte Order:             Little Endian\n",
            "CPU(s):                   12\n",
            "  On-line CPU(s) list:    0-11\n",
            "Vendor ID:                GenuineIntel\n",
            "  Model name:             Intel(R) Xeon(R) CPU @ 2.20GHz\n",
            "    CPU family:           6\n",
            "    Model:                85\n",
            "    Thread(s) per core:   2\n",
            "    Core(s) per socket:   6\n",
            "    Socket(s):            1\n",
            "    Stepping:             7\n",
            "    BogoMIPS:             4400.40\n",
            "    Flags:                fpu vme de pse tsc msr pae mce cx8 apic sep mtrr pge m\n",
            "                          ca cmov pat pse36 clflush mmx fxsr sse sse2 ss ht sysc\n",
            "                          all nx pdpe1gb rdtscp lm constant_tsc rep_good nopl xt\n",
            "                          opology nonstop_tsc cpuid tsc_known_freq pni pclmulqdq\n",
            "                           ssse3 fma cx16 pcid sse4_1 sse4_2 x2apic movbe popcnt\n",
            "                           aes xsave avx f16c rdrand hypervisor lahf_lm abm 3dno\n",
            "                          wprefetch invpcid_single ssbd ibrs ibpb stibp ibrs_enh\n",
            "                          anced fsgsbase tsc_adjust bmi1 hle avx2 smep bmi2 erms\n",
            "                           invpcid rtm mpx avx512f avx512dq rdseed adx smap clfl\n",
            "                          ushopt clwb avx512cd avx512bw avx512vl xsaveopt xsavec\n",
            "                           xgetbv1 xsaves arat avx512_vnni md_clear arch_capabil\n",
            "                          ities\n",
            "Virtualization features:  \n",
            "  Hypervisor vendor:      KVM\n",
            "  Virtualization type:    full\n",
            "Caches (sum of all):      \n",
            "  L1d:                    192 KiB (6 instances)\n",
            "  L1i:                    192 KiB (6 instances)\n",
            "  L2:                     6 MiB (6 instances)\n",
            "  L3:                     38.5 MiB (1 instance)\n",
            "NUMA:                     \n",
            "  NUMA node(s):           1\n",
            "  NUMA node0 CPU(s):      0-11\n",
            "Vulnerabilities:          \n",
            "  Gather data sampling:   Not affected\n",
            "  Itlb multihit:          Not affected\n",
            "  L1tf:                   Not affected\n",
            "  Mds:                    Not affected\n",
            "  Meltdown:               Not affected\n",
            "  Mmio stale data:        Vulnerable\n",
            "  Reg file data sampling: Not affected\n",
            "  Retbleed:               Vulnerable\n",
            "  Spec rstack overflow:   Not affected\n",
            "  Spec store bypass:      Vulnerable\n",
            "  Spectre v1:             Vulnerable: __user pointer sanitization and usercopy b\n",
            "                          arriers only; no swapgs barriers\n",
            "  Spectre v2:             Vulnerable; IBPB: disabled; STIBP: disabled; PBRSB-eIB\n",
            "                          RS: Vulnerable; BHI: Vulnerable\n",
            "  Srbds:                  Not affected\n",
            "  Tsx async abort:        Vulnerable\n"
          ]
        }
      ]
    },
    {
      "cell_type": "code",
      "source": [
        "# list all GPU devices\n",
        "!nvidia-smi -L"
      ],
      "metadata": {
        "colab": {
          "base_uri": "https://localhost:8080/"
        },
        "id": "ERakp2mfxTKV",
        "outputId": "b9c34ef4-0b56-4795-a4eb-6a1feb7974c3"
      },
      "execution_count": null,
      "outputs": [
        {
          "output_type": "stream",
          "name": "stdout",
          "text": [
            "GPU 0: NVIDIA A100-SXM4-40GB (UUID: GPU-d5bda271-190c-af9e-5278-e78e48565944)\n"
          ]
        }
      ]
    },
    {
      "cell_type": "code",
      "source": [
        "#show network info\n",
        "!ifconfig"
      ],
      "metadata": {
        "colab": {
          "base_uri": "https://localhost:8080/"
        },
        "id": "rRqRLG5xz0B1",
        "outputId": "439c9f02-1016-48f5-d16f-0b79efa73ec1"
      },
      "execution_count": null,
      "outputs": [
        {
          "output_type": "stream",
          "name": "stdout",
          "text": [
            "eth0: flags=4163<UP,BROADCAST,RUNNING,MULTICAST>  mtu 1500\n",
            "        inet 172.28.0.12  netmask 255.255.0.0  broadcast 172.28.255.255\n",
            "        ether 02:42:ac:1c:00:0c  txqueuelen 0  (Ethernet)\n",
            "        RX packets 2103  bytes 278259 (278.2 KB)\n",
            "        RX errors 0  dropped 0  overruns 0  frame 0\n",
            "        TX packets 1579  bytes 721220 (721.2 KB)\n",
            "        TX errors 0  dropped 0 overruns 0  carrier 0  collisions 0\n",
            "\n",
            "lo: flags=73<UP,LOOPBACK,RUNNING>  mtu 65536\n",
            "        inet 127.0.0.1  netmask 255.0.0.0\n",
            "        loop  txqueuelen 1000  (Local Loopback)\n",
            "        RX packets 7443  bytes 1402701 (1.4 MB)\n",
            "        RX errors 0  dropped 0  overruns 0  frame 0\n",
            "        TX packets 7443  bytes 1402701 (1.4 MB)\n",
            "        TX errors 0  dropped 0 overruns 0  carrier 0  collisions 0\n",
            "\n"
          ]
        }
      ]
    },
    {
      "cell_type": "code",
      "source": [
        "#sow HBM(VRAM) info\n",
        "!nvidia-smi --query-gpu=memory.total,memory.used,memory.free,temperature.memory --format=csv"
      ],
      "metadata": {
        "colab": {
          "base_uri": "https://localhost:8080/"
        },
        "id": "z5qsECFg0SIr",
        "outputId": "81715f4c-bd86-4ee1-d8b5-4bfc5a291991"
      },
      "execution_count": null,
      "outputs": [
        {
          "output_type": "stream",
          "name": "stdout",
          "text": [
            "memory.total [MiB], memory.used [MiB], memory.free [MiB], temperature.memory\n",
            "40960 MiB, 0 MiB, 40506 MiB, 31\n"
          ]
        }
      ]
    },
    {
      "cell_type": "code",
      "source": [
        "#show DRAM info (short)\n",
        "!free -h"
      ],
      "metadata": {
        "colab": {
          "base_uri": "https://localhost:8080/"
        },
        "id": "Y0zxbSys0du8",
        "outputId": "b6473900-e043-404a-cd04-0d86e459c303"
      },
      "execution_count": null,
      "outputs": [
        {
          "output_type": "stream",
          "name": "stdout",
          "text": [
            "               total        used        free      shared  buff/cache   available\n",
            "Mem:            83Gi       939Mi        77Gi       2.0Mi       4.7Gi        81Gi\n",
            "Swap:             0B          0B          0B\n"
          ]
        }
      ]
    },
    {
      "cell_type": "code",
      "source": [
        "#show DRAM info (full)\n",
        "!cat /proc/meminfo"
      ],
      "metadata": {
        "colab": {
          "base_uri": "https://localhost:8080/"
        },
        "id": "dIFtjAva1G1a",
        "outputId": "84702edb-757e-4130-bb39-083712db0a6d"
      },
      "execution_count": null,
      "outputs": [
        {
          "output_type": "stream",
          "name": "stdout",
          "text": [
            "MemTotal:       87530996 kB\n",
            "MemFree:        81605536 kB\n",
            "MemAvailable:   85742300 kB\n",
            "Buffers:          467628 kB\n",
            "Cached:          4355952 kB\n",
            "SwapCached:            0 kB\n",
            "Active:           828500 kB\n",
            "Inactive:        4599560 kB\n",
            "Active(anon):       1752 kB\n",
            "Inactive(anon):   605096 kB\n",
            "Active(file):     826748 kB\n",
            "Inactive(file):  3994464 kB\n",
            "Unevictable:           8 kB\n",
            "Mlocked:               8 kB\n",
            "SwapTotal:             0 kB\n",
            "SwapFree:              0 kB\n",
            "Dirty:               300 kB\n",
            "Writeback:             0 kB\n",
            "AnonPages:        604524 kB\n",
            "Mapped:           329580 kB\n",
            "Shmem:              2360 kB\n",
            "KReclaimable:     125096 kB\n",
            "Slab:             193900 kB\n",
            "SReclaimable:     125096 kB\n",
            "SUnreclaim:        68804 kB\n",
            "KernelStack:        8592 kB\n",
            "PageTables:        10752 kB\n",
            "SecPageTables:         0 kB\n",
            "NFS_Unstable:          0 kB\n",
            "Bounce:                0 kB\n",
            "WritebackTmp:          0 kB\n",
            "CommitLimit:    43765496 kB\n",
            "Committed_AS:    3876576 kB\n",
            "VmallocTotal:   34359738367 kB\n",
            "VmallocUsed:       89548 kB\n",
            "VmallocChunk:          0 kB\n",
            "Percpu:             8576 kB\n",
            "HardwareCorrupted:     0 kB\n",
            "AnonHugePages:         0 kB\n",
            "ShmemHugePages:        0 kB\n",
            "ShmemPmdMapped:        0 kB\n",
            "FileHugePages:         0 kB\n",
            "FilePmdMapped:         0 kB\n",
            "CmaTotal:              0 kB\n",
            "CmaFree:               0 kB\n",
            "Unaccepted:            0 kB\n",
            "HugePages_Total:       0\n",
            "HugePages_Free:        0\n",
            "HugePages_Rsvd:        0\n",
            "HugePages_Surp:        0\n",
            "Hugepagesize:       2048 kB\n",
            "Hugetlb:               0 kB\n",
            "DirectMap4k:      172848 kB\n",
            "DirectMap2M:    11358208 kB\n",
            "DirectMap1G:    79691776 kB\n"
          ]
        }
      ]
    },
    {
      "cell_type": "code",
      "source": [
        "#show SSD/HDD disk info\n",
        "!lsblk"
      ],
      "metadata": {
        "colab": {
          "base_uri": "https://localhost:8080/"
        },
        "id": "uC-cICAd1V8z",
        "outputId": "6320c5db-8be0-43fc-91f8-af18d3ed03a3"
      },
      "execution_count": null,
      "outputs": [
        {
          "output_type": "stream",
          "name": "stdout",
          "text": [
            "NAME    MAJ:MIN RM   SIZE RO TYPE MOUNTPOINTS\n",
            "loop0     7:0    0   240G  0 loop \n",
            "sda       8:0    0   250G  0 disk \n",
            "├─sda1    8:1    0 245.8G  0 part /opt/bin/.nvidia\n",
            "│                                 /etc/hosts\n",
            "│                                 /etc/hostname\n",
            "│                                 /etc/resolv.conf\n",
            "│                                 /kaggle/input\n",
            "│                                 /usr/lib64-nvidia\n",
            "├─sda2    8:2    0    16M  0 part \n",
            "├─sda3    8:3    0     2G  0 part \n",
            "├─sda4    8:4    0    16M  0 part \n",
            "├─sda5    8:5    0     2G  0 part \n",
            "├─sda6    8:6    0   512B  0 part \n",
            "├─sda7    8:7    0   512B  0 part \n",
            "├─sda8    8:8    0    16M  0 part \n",
            "├─sda9    8:9    0   512B  0 part \n",
            "├─sda10   8:10   0   512B  0 part \n",
            "├─sda11   8:11   0     8M  0 part \n",
            "└─sda12   8:12   0    32M  0 part \n"
          ]
        }
      ]
    },
    {
      "cell_type": "code",
      "source": [
        "!apt install hwloc"
      ],
      "metadata": {
        "colab": {
          "base_uri": "https://localhost:8080/"
        },
        "id": "XoLbTJydoYWI",
        "outputId": "23e71bd2-9d4a-49c9-a543-1e95dae87d96"
      },
      "execution_count": 1,
      "outputs": [
        {
          "output_type": "stream",
          "name": "stdout",
          "text": [
            "Reading package lists... Done\n",
            "Building dependency tree... Done\n",
            "Reading state information... Done\n",
            "The following NEW packages will be installed:\n",
            "  hwloc\n",
            "0 upgraded, 1 newly installed, 0 to remove and 35 not upgraded.\n",
            "Need to get 223 kB of archives.\n",
            "After this operation, 766 kB of additional disk space will be used.\n",
            "Get:1 http://archive.ubuntu.com/ubuntu jammy-updates/universe amd64 hwloc amd64 2.7.0-2ubuntu1 [223 kB]\n",
            "Fetched 223 kB in 2s (141 kB/s)\n",
            "Selecting previously unselected package hwloc.\n",
            "(Reading database ... 126111 files and directories currently installed.)\n",
            "Preparing to unpack .../hwloc_2.7.0-2ubuntu1_amd64.deb ...\n",
            "Unpacking hwloc (2.7.0-2ubuntu1) ...\n",
            "Setting up hwloc (2.7.0-2ubuntu1) ...\n",
            "Processing triggers for man-db (2.10.2-1) ...\n",
            "Processing triggers for mailcap (3.70+nmu1ubuntu1) ...\n"
          ]
        }
      ]
    },
    {
      "cell_type": "code",
      "source": [
        "!lstopo"
      ],
      "metadata": {
        "colab": {
          "base_uri": "https://localhost:8080/"
        },
        "id": "KDKnzb2RokaB",
        "outputId": "3364a6a1-287d-4af4-b7d4-270a7cc6189d"
      },
      "execution_count": 2,
      "outputs": [
        {
          "output_type": "stream",
          "name": "stdout",
          "text": [
            "Machine (83GB total)\n",
            "  Package L#0\n",
            "    NUMANode L#0 (P#0 83GB)\n",
            "    L3 L#0 (39MB)\n",
            "      L2 L#0 (1024KB) + L1d L#0 (32KB) + L1i L#0 (32KB) + Core L#0\n",
            "        PU L#0 (P#0)\n",
            "        PU L#1 (P#6)\n",
            "      L2 L#1 (1024KB) + L1d L#1 (32KB) + L1i L#1 (32KB) + Core L#1\n",
            "        PU L#2 (P#1)\n",
            "        PU L#3 (P#7)\n",
            "      L2 L#2 (1024KB) + L1d L#2 (32KB) + L1i L#2 (32KB) + Core L#2\n",
            "        PU L#4 (P#2)\n",
            "        PU L#5 (P#8)\n",
            "      L2 L#3 (1024KB) + L1d L#3 (32KB) + L1i L#3 (32KB) + Core L#3\n",
            "        PU L#6 (P#3)\n",
            "        PU L#7 (P#9)\n",
            "      L2 L#4 (1024KB) + L1d L#4 (32KB) + L1i L#4 (32KB) + Core L#4\n",
            "        PU L#8 (P#4)\n",
            "        PU L#9 (P#10)\n",
            "      L2 L#5 (1024KB) + L1d L#5 (32KB) + L1i L#5 (32KB) + Core L#5\n",
            "        PU L#10 (P#5)\n",
            "        PU L#11 (P#11)\n",
            "  HostBridge\n",
            "    PCI 00:03.0 (Other)\n",
            "      Block \"sda\"\n",
            "    PCI 00:04.0 (3D)\n",
            "    PCI 00:05.0 (Ethernet)\n",
            "    PCI 00:06.0 (Other)\n"
          ]
        }
      ]
    },
    {
      "cell_type": "code",
      "source": [
        "!lstopo -v --of pdf > A100_lstopo.pdf"
      ],
      "metadata": {
        "id": "9uZNi1X0oqBX"
      },
      "execution_count": 3,
      "outputs": []
    },
    {
      "cell_type": "markdown",
      "source": [
        "Code Explanation\n",
        "The code you've provided uses a series of commands executed directly within the Jupyter notebook environment using the ! prefix. This prefix allows you to run shell commands as if you were in a terminal. These commands are primarily used to query information about the system's hardware.\n",
        "\n",
        "Let's break down the specific line you asked about:\n",
        "\n",
        "This command uses the lstopo utility, which is part of the hwloc package (which was installed in the previous line). lstopo is a tool that generates a graphical representation of the system's hardware topology.\n",
        "\n",
        "lstopo: This is the command to execute the lstopo utility.\n",
        "-v: This option tells lstopo to be verbose and include more details in the output.\n",
        "--of pdf: This option specifies the output format as a PDF file.\n",
        ">: This is a shell redirection operator. It takes the output of the command on the left (lstopo -v --of pdf) and redirects it to the file specified on the right (A100_lstopo.pdf).\n",
        "In summary, this command generates a detailed hardware topology map of your system in a PDF format and saves it to a file named A100_lstopo.pdf in the current directory. This PDF file will show a visual representation of how your CPUs, memory, and other hardware components are interconnected."
      ],
      "metadata": {
        "id": "KFnAaqlPpGVV"
      }
    },
    {
      "cell_type": "code",
      "source": [
        "!apt install pciutils"
      ],
      "metadata": {
        "colab": {
          "base_uri": "https://localhost:8080/"
        },
        "id": "I9-AhPvNozYD",
        "outputId": "4219d993-bec8-476d-827d-5840dfc5c321"
      },
      "execution_count": 7,
      "outputs": [
        {
          "output_type": "stream",
          "name": "stdout",
          "text": [
            "Reading package lists... Done\n",
            "Building dependency tree... Done\n",
            "Reading state information... Done\n",
            "pciutils is already the newest version (1:3.7.0-6).\n",
            "0 upgraded, 0 newly installed, 0 to remove and 35 not upgraded.\n"
          ]
        }
      ]
    },
    {
      "cell_type": "code",
      "source": [
        "# prompt: list all pcie devices with pcie addresses and connections\n",
        "!lspci -vvv"
      ],
      "metadata": {
        "colab": {
          "base_uri": "https://localhost:8080/"
        },
        "id": "LZpk-SnwrwZQ",
        "outputId": "24ffd4c8-bc71-4ae5-955c-a064998c15f1"
      },
      "execution_count": 8,
      "outputs": [
        {
          "output_type": "stream",
          "name": "stdout",
          "text": [
            "00:00.0 Host bridge: Intel Corporation 440FX - 82441FX PMC [Natoma] (rev 02)\n",
            "\tSubsystem: Red Hat, Inc. Qemu virtual machine\n",
            "\tControl: I/O+ Mem+ BusMaster+ SpecCycle- MemWINV+ VGASnoop- ParErr- Stepping- SERR- FastB2B- DisINTx-\n",
            "\tStatus: Cap- 66MHz- UDF- FastB2B+ ParErr- DEVSEL=medium >TAbort- <TAbort- <MAbort- >SERR- <PERR- INTx-\n",
            "\tLatency: 0\n",
            "\tNUMA node: 0\n",
            "lspci: Unable to load libkmod resources: error -2\n",
            "\n",
            "00:01.0 ISA bridge: Intel Corporation 82371AB/EB/MB PIIX4 ISA (rev 03)\n",
            "\tControl: I/O+ Mem+ BusMaster+ SpecCycle- MemWINV+ VGASnoop- ParErr- Stepping- SERR- FastB2B- DisINTx-\n",
            "\tStatus: Cap- 66MHz- UDF- FastB2B- ParErr- DEVSEL=fast >TAbort- <TAbort- <MAbort- >SERR- <PERR- INTx-\n",
            "\tLatency: 0\n",
            "\tNUMA node: 0\n",
            "\n",
            "00:01.3 Bridge: Intel Corporation 82371AB/EB/MB PIIX4 ACPI (rev 03)\n",
            "\tControl: I/O+ Mem+ BusMaster+ SpecCycle- MemWINV+ VGASnoop- ParErr- Stepping- SERR- FastB2B- DisINTx-\n",
            "\tStatus: Cap- 66MHz- UDF- FastB2B- ParErr- DEVSEL=fast >TAbort- <TAbort- <MAbort- >SERR- <PERR- INTx-\n",
            "\tLatency: 0\n",
            "\tInterrupt: pin A routed to IRQ 9\n",
            "\tNUMA node: 0\n",
            "\n",
            "00:03.0 Non-VGA unclassified device: Red Hat, Inc. Virtio SCSI\n",
            "\tSubsystem: Red Hat, Inc. Device 0008\n",
            "\tControl: I/O+ Mem+ BusMaster+ SpecCycle- MemWINV+ VGASnoop- ParErr- Stepping- SERR- FastB2B- DisINTx+\n",
            "\tStatus: Cap+ 66MHz- UDF- FastB2B- ParErr- DEVSEL=fast >TAbort- <TAbort- <MAbort- >SERR- <PERR- INTx-\n",
            "\tLatency: 0\n",
            "\tInterrupt: pin A routed to IRQ 11\n",
            "\tNUMA node: 0\n",
            "\tRegion 0: I/O ports at c040 [size=64]\n",
            "\tRegion 1: Memory at 81001000 (32-bit, non-prefetchable) [size=128]\n",
            "\tCapabilities: [80] MSI-X: Enable+ Count=4 Masked-\n",
            "\t\tVector table: BAR=1 offset=00000008\n",
            "\t\tPBA: BAR=1 offset=00000000\n",
            "\tKernel driver in use: virtio-pci\n",
            "\n",
            "00:04.0 3D controller: NVIDIA Corporation GA100 [A100 SXM4 40GB] (rev a1)\n",
            "\tSubsystem: NVIDIA Corporation Device 134f\n",
            "\tControl: I/O+ Mem+ BusMaster+ SpecCycle- MemWINV+ VGASnoop- ParErr- Stepping- SERR- FastB2B- DisINTx+\n",
            "\tStatus: Cap+ 66MHz- UDF- FastB2B- ParErr- DEVSEL=fast >TAbort- <TAbort- <MAbort- >SERR- <PERR- INTx-\n",
            "\tLatency: 0\n",
            "\tInterrupt: pin A routed to IRQ 11\n",
            "\tNUMA node: 0\n",
            "\tRegion 0: Memory at 80000000 (32-bit, non-prefetchable) [size=16M]\n",
            "\tRegion 1: Memory at 2000000000 (64-bit, prefetchable) [size=64G]\n",
            "\tRegion 3: Memory at 3000000000 (64-bit, prefetchable) [size=32M]\n",
            "\tCapabilities: [60] MSI-X: Enable+ Count=6 Masked-\n",
            "\t\tVector table: BAR=0 offset=00b90000\n",
            "\t\tPBA: BAR=0 offset=00ba0000\n",
            "\tCapabilities: [6c] Power Management version 3\n",
            "\t\tFlags: PMEClk- DSI- D1- D2- AuxCurrent=0mA PME(D0-,D1-,D2-,D3hot-,D3cold-)\n",
            "\t\tStatus: D0 NoSoftRst+ PME-Enable- DSel=0 DScale=0 PME-\n",
            "\tCapabilities: [74] Vendor Specific Information: Len=08 <?>\n",
            "\tKernel driver in use: nvidia\n",
            "\n",
            "00:05.0 Ethernet controller: Red Hat, Inc. Virtio network device\n",
            "\tSubsystem: Red Hat, Inc. Device 0001\n",
            "\tControl: I/O+ Mem+ BusMaster+ SpecCycle- MemWINV+ VGASnoop- ParErr- Stepping- SERR- FastB2B- DisINTx+\n",
            "\tStatus: Cap+ 66MHz- UDF- FastB2B- ParErr- DEVSEL=fast >TAbort- <TAbort- <MAbort- >SERR- <PERR- INTx+\n",
            "\tLatency: 0\n",
            "\tInterrupt: pin A routed to IRQ 10\n",
            "\tNUMA node: 0\n",
            "\tRegion 0: I/O ports at c000 [size=64]\n",
            "\tRegion 1: Memory at 81000000 (32-bit, non-prefetchable) [size=512]\n",
            "\tCapabilities: [80] MSI-X: Enable+ Count=25 Masked-\n",
            "\t\tVector table: BAR=1 offset=00000008\n",
            "\t\tPBA: BAR=1 offset=00000000\n",
            "\tKernel driver in use: virtio-pci\n",
            "\n",
            "00:06.0 Unclassified device [00ff]: Red Hat, Inc. Virtio RNG\n",
            "\tSubsystem: Red Hat, Inc. Device 0004\n",
            "\tControl: I/O+ Mem+ BusMaster+ SpecCycle- MemWINV+ VGASnoop- ParErr- Stepping- SERR- FastB2B- DisINTx+\n",
            "\tStatus: Cap+ 66MHz- UDF- FastB2B- ParErr- DEVSEL=fast >TAbort- <TAbort- <MAbort- >SERR- <PERR- INTx-\n",
            "\tLatency: 0\n",
            "\tInterrupt: pin A routed to IRQ 10\n",
            "\tNUMA node: 0\n",
            "\tRegion 0: I/O ports at c080 [size=32]\n",
            "\tRegion 1: Memory at 81002000 (32-bit, non-prefetchable) [size=64]\n",
            "\tCapabilities: [80] MSI-X: Enable+ Count=2 Masked-\n",
            "\t\tVector table: BAR=1 offset=00000008\n",
            "\t\tPBA: BAR=1 offset=00000000\n",
            "\tKernel driver in use: virtio-pci\n",
            "\n"
          ]
        }
      ]
    },
    {
      "cell_type": "code",
      "source": [
        "!cat /proc/ioports"
      ],
      "metadata": {
        "colab": {
          "base_uri": "https://localhost:8080/"
        },
        "id": "Ddqk2bQRvBDS",
        "outputId": "831c047f-ddc1-4fd8-ced4-cdcc58c76029"
      },
      "execution_count": 10,
      "outputs": [
        {
          "output_type": "stream",
          "name": "stdout",
          "text": [
            "0000-0cf7 : PCI Bus 0000:00\n",
            "  0000-001f : dma1\n",
            "  0020-0021 : pic1\n",
            "  0040-0043 : timer0\n",
            "  0050-0053 : timer1\n",
            "  0060-0060 : keyboard\n",
            "  0064-0064 : keyboard\n",
            "  0070-0071 : rtc0\n",
            "  0080-008f : dma page reg\n",
            "  00a0-00a1 : pic2\n",
            "  00c0-00df : dma2\n",
            "  00f0-00ff : fpu\n",
            "  02e8-02ef : serial\n",
            "  02f8-02ff : serial\n",
            "  03e8-03ef : serial\n",
            "  03f8-03ff : serial\n",
            "  0505-0505 : QEMU0001:00\n",
            "0cf8-0cff : PCI conf1\n",
            "0d00-0fff : PCI Bus 0000:00\n",
            "a000-bfff : PCI Bus 0000:00\n",
            "  afe0-afe3 : ACPI GPE0_BLK\n",
            "  b000-b03f : 0000:00:01.3\n",
            "    b000-b003 : ACPI PM1a_EVT_BLK\n",
            "    b004-b005 : ACPI PM1a_CNT_BLK\n",
            "    b008-b00b : ACPI PM_TMR\n",
            "c000-ffff : PCI Bus 0000:00\n",
            "  c000-c03f : 0000:00:05.0\n",
            "    c000-c03f : virtio-pci-legacy\n",
            "  c040-c07f : 0000:00:03.0\n",
            "    c040-c07f : virtio-pci-legacy\n",
            "  c080-c09f : 0000:00:06.0\n",
            "    c080-c09f : virtio-pci-legacy\n"
          ]
        }
      ]
    }
  ]
}
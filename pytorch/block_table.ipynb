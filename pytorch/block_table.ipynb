{
  "nbformat": 4,
  "nbformat_minor": 0,
  "metadata": {
    "colab": {
      "provenance": [],
      "gpuType": "T4",
      "authorship_tag": "ABX9TyMM53oBaFEdzCs+eBelDaAk",
      "include_colab_link": true
    },
    "kernelspec": {
      "name": "python3",
      "display_name": "Python 3"
    },
    "language_info": {
      "name": "python"
    },
    "accelerator": "GPU"
  },
  "cells": [
    {
      "cell_type": "markdown",
      "metadata": {
        "id": "view-in-github",
        "colab_type": "text"
      },
      "source": [
        "<a href=\"https://colab.research.google.com/github/leideng/AI-primer/blob/main/pytorch/block_table.ipynb\" target=\"_parent\"><img src=\"https://colab.research.google.com/assets/colab-badge.svg\" alt=\"Open In Colab\"/></a>"
      ]
    },
    {
      "cell_type": "code",
      "execution_count": 12,
      "metadata": {
        "colab": {
          "base_uri": "https://localhost:8080/"
        },
        "id": "n6HsophgGYXY",
        "outputId": "5bd5bd36-7666-46dd-aa1b-94d12353b937"
      },
      "outputs": [
        {
          "output_type": "stream",
          "name": "stdout",
          "text": [
            "block_table=tensor([[12, 67, 22, 87,  4, -1, -1, -1, -1, -1],\n",
            "        [46, 34, 32, 90, 71, -1, -1, -1, -1, -1],\n",
            "        [76, 78, 70, 60, 58, -1, -1, -1, -1, -1],\n",
            "        [14, 66, 24, 72, 77, -1, -1, -1, -1, -1],\n",
            "        [36, 61, 30, 52, 26, -1, -1, -1, -1, -1],\n",
            "        [74, 43, 15, 56, 63, -1, -1, -1, -1, -1],\n",
            "        [31, 51, 42, 40, 39, -1, -1, -1, -1, -1],\n",
            "        [79, 88, 37, 35,  3, -1, -1, -1, -1, -1],\n",
            "        [68, 19, 21, 53, 45, -1, -1, -1, -1, -1],\n",
            "        [99, 28, 29, 20, 47, -1, -1, -1, -1, -1]], device='cuda:0')\n"
          ]
        }
      ],
      "source": [
        "import torch\n",
        "times = 1\n",
        "block_size = 128\n",
        "batch_size = 10*times\n",
        "max_num_blocks_per_req = 5*times\n",
        "num_blocks = 100*times\n",
        "block_table = torch.randperm(num_blocks, device=\"cuda\").view(batch_size, -1)\n",
        "block_table[:,max_num_blocks_per_req:] = -1\n",
        "print(f\"block_table={block_table}\")"
      ]
    },
    {
      "cell_type": "code",
      "source": [
        "#torch.randint(3, 5, (3,))\n",
        "seq_lens = torch.randint(low=1,high=max_num_blocks_per_req*block_size, size=(batch_size,))\n",
        "print(f\"seq_lens={seq_lens}\")\n",
        "\n",
        "num_valid_blocks = (seq_lens + block_size -1) // block_size\n",
        "print(f\"num_valid_blocks={num_valid_blocks}\")\n",
        "\n",
        "block_table[:,num_valid_blocks] = -1\n",
        "print(f\"block_table={block_table}\")"
      ],
      "metadata": {
        "colab": {
          "base_uri": "https://localhost:8080/"
        },
        "id": "WBonZbB1I1yu",
        "outputId": "2d5273d6-4e65-4051-90ca-061bb18795b7"
      },
      "execution_count": 22,
      "outputs": [
        {
          "output_type": "stream",
          "name": "stdout",
          "text": [
            "seq_lens=tensor([ 84, 446, 485, 471, 309, 305, 250, 364, 298, 487])\n",
            "num_valid_blocks=tensor([1, 4, 4, 4, 3, 3, 2, 3, 3, 4])\n",
            "block_table=tensor([[12, -1, -1, -1, -1, -1, -1, -1, -1, -1],\n",
            "        [46, -1, -1, -1, -1, -1, -1, -1, -1, -1],\n",
            "        [76, -1, -1, -1, -1, -1, -1, -1, -1, -1],\n",
            "        [14, -1, -1, -1, -1, -1, -1, -1, -1, -1],\n",
            "        [36, -1, -1, -1, -1, -1, -1, -1, -1, -1],\n",
            "        [74, -1, -1, -1, -1, -1, -1, -1, -1, -1],\n",
            "        [31, -1, -1, -1, -1, -1, -1, -1, -1, -1],\n",
            "        [79, -1, -1, -1, -1, -1, -1, -1, -1, -1],\n",
            "        [68, -1, -1, -1, -1, -1, -1, -1, -1, -1],\n",
            "        [99, -1, -1, -1, -1, -1, -1, -1, -1, -1]], device='cuda:0')\n"
          ]
        }
      ]
    }
  ]
}
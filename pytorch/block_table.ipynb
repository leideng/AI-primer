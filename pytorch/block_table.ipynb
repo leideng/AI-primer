{
  "nbformat": 4,
  "nbformat_minor": 0,
  "metadata": {
    "colab": {
      "provenance": [],
      "authorship_tag": "ABX9TyOh3jdNJcuGyt7CPKODXK9L",
      "include_colab_link": true
    },
    "kernelspec": {
      "name": "python3",
      "display_name": "Python 3"
    },
    "language_info": {
      "name": "python"
    }
  },
  "cells": [
    {
      "cell_type": "markdown",
      "metadata": {
        "id": "view-in-github",
        "colab_type": "text"
      },
      "source": [
        "<a href=\"https://colab.research.google.com/github/leideng/AI-primer/blob/main/pytorch/block_table.ipynb\" target=\"_parent\"><img src=\"https://colab.research.google.com/assets/colab-badge.svg\" alt=\"Open In Colab\"/></a>"
      ]
    },
    {
      "cell_type": "code",
      "execution_count": null,
      "metadata": {
        "colab": {
          "base_uri": "https://localhost:8080/"
        },
        "id": "n6HsophgGYXY",
        "outputId": "3241145a-aa43-4141-a82e-b4d20f093ecb"
      },
      "outputs": [
        {
          "output_type": "stream",
          "name": "stdout",
          "text": [
            "block_size=128\n",
            "batch_size=3\n",
            "max_num_blocks_per_req=10\n",
            "num_blocks=30\n",
            "top_k=5\n",
            "device=cpu\n",
            "block_table=\n",
            "tensor([[23, 20,  0,  3, 24,  9, 15, 28, 11,  1],\n",
            "        [ 8, 27, 26, 29, 16, 14,  2, 10, 17,  7],\n",
            "        [19, 25, 13, 18,  5,  6, 12, 22, 21,  4]])\n"
          ]
        }
      ],
      "source": [
        "import torch\n",
        "times = 1\n",
        "block_size = 128\n",
        "batch_size = 3*times\n",
        "max_num_blocks_per_req = 10*times\n",
        "num_blocks = batch_size*max_num_blocks_per_req\n",
        "top_k = max_num_blocks_per_req // 2\n",
        "device = \"cuda\" if torch.cuda.is_available() else \"cpu\"\n",
        "\n",
        "print(f\"block_size={block_size}\")\n",
        "print(f\"batch_size={batch_size}\")\n",
        "print(f\"max_num_blocks_per_req={max_num_blocks_per_req}\")\n",
        "print(f\"num_blocks={num_blocks}\")\n",
        "print(f\"top_k={top_k}\")\n",
        "print(f\"device={device}\")\n",
        "\n",
        "block_table = torch.randperm(num_blocks, device=device).view(batch_size, -1)\n",
        "print(f\"block_table=\\n{block_table}\")"
      ]
    },
    {
      "cell_type": "code",
      "source": [
        "#torch.randint(3, 5, (3,))\n",
        "seq_lens = torch.randint(low=1,high=max_num_blocks_per_req*block_size, size=(batch_size,))\n",
        "print(f\"seq_lens={seq_lens}\")\n",
        "\n",
        "num_valid_blocks = (seq_lens + block_size -1) // block_size\n",
        "print(f\"num_valid_blocks={num_valid_blocks}\")\n",
        "\n",
        "for i in range(batch_size):\n",
        "  block_table[i,num_valid_blocks[i]:] = -1\n",
        "print(f\"block_table=\\n{block_table}\")"
      ],
      "metadata": {
        "colab": {
          "base_uri": "https://localhost:8080/"
        },
        "id": "WBonZbB1I1yu",
        "outputId": "9ba16e41-c609-4353-c8da-2a0e164c24e2"
      },
      "execution_count": null,
      "outputs": [
        {
          "output_type": "stream",
          "name": "stdout",
          "text": [
            "seq_lens=tensor([1172,  420,  886])\n",
            "num_valid_blocks=tensor([10,  4,  7])\n",
            "block_table=\n",
            "tensor([[23, 20,  0,  3, 24,  9, 15, 28, 11,  1],\n",
            "        [ 8, 27, 26, 29, -1, -1, -1, -1, -1, -1],\n",
            "        [19, 25, 13, 18,  5,  6, 12, -1, -1, -1]])\n"
          ]
        }
      ]
    },
    {
      "cell_type": "code",
      "source": [
        "topk_block_indices = block_table[:,:top_k]\n",
        "\n",
        "rand_num = torch.rand(batch_size, max_num_blocks_per_req)\n",
        "#print(f\"rand_num=\\n{rand_num}\")\n",
        "rand_topk = torch.argsort(rand_num, dim=-1)\n",
        "rand_topk = rand_topk[:,:top_k]\n",
        "print(f\"before sorting: rand_topk=\\n{rand_topk}\")\n",
        "rand_topk, _ = rand_topk.sort(dim=1)\n",
        "print(f\"after sorting: rand_topk=\\n{rand_topk}\")\n",
        "\n",
        "# Create a row index tensor that broadcasts across the batch dim\n",
        "# torch.arange(batch_size) creates [0, 1, 2, ..., batch_size-1]\n",
        "# .unsqueeze(1) changes it to [[0], [1], [2], ..., [batch_size-1] ]\n",
        "# .expand(-1, top_k)  (say top_k=5) expands it to [[0,0,0,0,0], [1,1,1,1,1], [2,2,2,2,2], ..., [batch_size-1,batch_size-1,...,batch_size-1]]\n",
        "batch_indices = torch.arange(batch_size).unsqueeze(1).expand(-1, top_k)\n",
        "\n",
        "topk_block_indices = block_table[batch_indices, rand_topk]\n",
        "print(f\"topk_block_indices=\\n{topk_block_indices}\")"
      ],
      "metadata": {
        "colab": {
          "base_uri": "https://localhost:8080/"
        },
        "id": "TXOQgob2LiL5",
        "outputId": "4ad668a5-449f-4c55-d9ef-f3dd4dbb4510"
      },
      "execution_count": null,
      "outputs": [
        {
          "output_type": "stream",
          "name": "stdout",
          "text": [
            "before sorting: rand_topk=\n",
            "tensor([[0, 5, 6, 2, 9],\n",
            "        [8, 9, 4, 2, 5],\n",
            "        [6, 4, 0, 8, 7]])\n",
            "after sorting: rand_topk=\n",
            "tensor([[0, 2, 5, 6, 9],\n",
            "        [2, 4, 5, 8, 9],\n",
            "        [0, 4, 6, 7, 8]])\n",
            "topk_block_indices=\n",
            "tensor([[23,  0,  9, 15,  1],\n",
            "        [26, -1, -1, -1, -1],\n",
            "        [19,  5, 12, -1, -1]])\n"
          ]
        }
      ]
    },
    {
      "cell_type": "code",
      "source": [
        "x = torch.randint(low=1,high=100, size=(5,10))\n",
        "print(f\"x={x}\")\n",
        "idx = x >= 80\n",
        "print(f\"idx={idx}\")\n",
        "y = x[idx]\n",
        "print(f\"y={y}\")"
      ],
      "metadata": {
        "colab": {
          "base_uri": "https://localhost:8080/"
        },
        "id": "H0wxMxMBW4wF",
        "outputId": "fdfab30f-ee41-4ea5-827d-28d9332f3621"
      },
      "execution_count": null,
      "outputs": [
        {
          "output_type": "stream",
          "name": "stdout",
          "text": [
            "x=tensor([[19, 43, 91, 26,  9, 65, 85, 49,  7, 61],\n",
            "        [ 7, 90, 77, 86, 85, 84, 81,  7,  3, 68],\n",
            "        [ 5, 99, 90, 35, 82, 31, 84, 34, 70, 24],\n",
            "        [23, 66, 16, 18, 92,  5,  5, 32, 44, 83],\n",
            "        [82, 33, 90, 51, 16, 16, 68, 15, 84, 44]])\n",
            "idx=tensor([[False, False,  True, False, False, False,  True, False, False, False],\n",
            "        [False,  True, False,  True,  True,  True,  True, False, False, False],\n",
            "        [False,  True,  True, False,  True, False,  True, False, False, False],\n",
            "        [False, False, False, False,  True, False, False, False, False,  True],\n",
            "        [ True, False,  True, False, False, False, False, False,  True, False]])\n",
            "y=tensor([91, 85, 90, 86, 85, 84, 81, 99, 90, 82, 84, 92, 83, 82, 90, 84])\n"
          ]
        }
      ]
    }
  ]
}
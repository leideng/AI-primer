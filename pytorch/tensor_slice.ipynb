{
  "nbformat": 4,
  "nbformat_minor": 0,
  "metadata": {
    "colab": {
      "provenance": [],
      "authorship_tag": "ABX9TyMTBXHf9MeFedN/lAwuEu1s",
      "include_colab_link": true
    },
    "kernelspec": {
      "name": "python3",
      "display_name": "Python 3"
    },
    "language_info": {
      "name": "python"
    }
  },
  "cells": [
    {
      "cell_type": "markdown",
      "metadata": {
        "id": "view-in-github",
        "colab_type": "text"
      },
      "source": [
        "<a href=\"https://colab.research.google.com/github/leideng/AI-primer/blob/main/pytorch/tensor_slice.ipynb\" target=\"_parent\"><img src=\"https://colab.research.google.com/assets/colab-badge.svg\" alt=\"Open In Colab\"/></a>"
      ]
    },
    {
      "cell_type": "markdown",
      "source": [
        "# This is a notebook about how to efficiently slide a pytorch tensor in different manners\n",
        "\n",
        "## Python's slicing\n",
        "\n",
        "## Boolean index\n",
        "\n",
        "## Index"
      ],
      "metadata": {
        "id": "l2TwH_uGwZIH"
      }
    },
    {
      "cell_type": "code",
      "execution_count": 11,
      "metadata": {
        "colab": {
          "base_uri": "https://localhost:8080/"
        },
        "id": "c43vEdjOwUYd",
        "outputId": "58a0a9e4-949c-4d8c-d81f-257e63ac78ea"
      },
      "outputs": [
        {
          "output_type": "stream",
          "name": "stdout",
          "text": [
            "x=tensor([[-5,  3, -5, -2,  3, -4,  3,  1],\n",
            "        [-3,  3, -3,  4, -2,  1,  2, -4],\n",
            "        [-3,  0,  0,  1,  0, -2, -4, -3],\n",
            "        [ 0,  2, -3,  0,  1, -5,  3,  4],\n",
            "        [-4, -1,  1, -1, -5,  3,  3,  3]])\n",
            "row 1: x1=x[1,:]=tensor([-3,  3, -3,  4, -2,  1,  2, -4])\n",
            "x1.shape=torch.Size([8])\n",
            "column 1: y1=y[:,1]=tensor([ 3,  3,  0,  2, -1])\n",
            "y1.shape=torch.Size([5])\n",
            "x2_3=x[2,3]=1\n",
            "x2_3.shape=torch.Size([])\n",
            "x2_35=x[2,3:5]=tensor([1, 0])\n",
            "x2_35.shape=torch.Size([2])\n"
          ]
        }
      ],
      "source": [
        "# Python's slicing\n",
        "import torch\n",
        "device = \"cuda\" if torch.cuda.is_available() else \"cpu\"\n",
        "x = torch.randint(low=-5, high=5, size=(5,8), device=device)\n",
        "print(f\"x={x}\")\n",
        "\n",
        "x1 = x[1,:]\n",
        "print(f\"row 1: x1=x[1,:]={x1}\")\n",
        "print(f\"x1.shape={x1.shape}\")\n",
        "\n",
        "y1 = x[:,1]\n",
        "print(f\"column 1: y1=y[:,1]={y1}\")\n",
        "print(f\"y1.shape={y1.shape}\")\n",
        "\n",
        "x2_3 = x[2,3]\n",
        "x2_35 = x[2,3:5]\n",
        "print(f\"x2_3=x[2,3]={x2_3}\")\n",
        "print(f\"x2_3.shape={x2_3.shape}\")\n",
        "print(f\"x2_35=x[2,3:5]={x2_35}\")\n",
        "print(f\"x2_35.shape={x2_35.shape}\")\n"
      ]
    }
  ]
}